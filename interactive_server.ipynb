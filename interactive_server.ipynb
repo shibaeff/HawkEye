{
 "cells": [
  {
   "cell_type": "raw",
   "source": [
    "---\n",
    "title: P2P transaction analyzer 🚀\n",
    "description: Clusterizes ETH transactions by service on your request\n",
    "show-code: True\n",
    "params:\n",
    "    tx:\n",
    "        input: text\n",
    "        label: Please, enter tx hash\n",
    "---"
   ],
   "metadata": {
    "collapsed": false,
    "pycharm": {
     "name": "#%% raw\n"
    }
   }
  },
  {
   "cell_type": "code",
   "execution_count": 1,
   "metadata": {
    "pycharm": {
     "name": "#%%\n"
    }
   },
   "outputs": [
    {
     "data": {
      "text/plain": "                                       Address isToken       Cluster  \\\n0   0x18bc0c665ca5cc6134b0c9d054784924e5d93d28   False             0   \n1   0x7d2768de32b0b80b7a3454c06bdac94a69ddc7a9   False             0   \n2   0xc6845a5c768bf8d7681249f8927877efda425baf   False             0   \n3   0x030ba81f1c18d280636f32af80b9aad02cf0854e    True             0   \n4   0x541dcd3f00bcd1a683cc73e1b2a8693b602201f4    True             0   \n5   0xc02aaa39b223fe8d0a0e5c4f27ead9083c756cc2    True  Simple Token   \n6   0xb53c1a33016b2dc2ff3653530bff1848a515c8c5   False             0   \n7   0xbd4765210d4167ce2a5b87280d9e8ee316d5ec7c   False             0   \n8   0xa50ba011c48153de246e5192c8f9258a2ba79ca9   False             0   \n9   0xf63b34710400cad3e044cffdcab00a0f32e33ecf    True             0   \n10  0xddde1fa049209bc24b69d5fa316a56efec918d79    True             0   \n11  0x4e977830ba4bd783c0bb7f15d3e243f73ff57121    True             0   \n12  0xa558ea1a875f8b576f0728d32c39f62158e49b92    True             0   \n13  0xd784927ff2f95ba542bfc824c8a8a98f3495f6b5   False             0   \n14  0x83d055d382f25e6793099713505c68a5c7535a35   False             0   \n15  0x4ce076b9dd956196b814e54e1714338f18fde3f4   False             0   \n16  0x8a32f49ffba88aba6eff96f45d8bd1d4b3f35c7d   False             0   \n17  0x75c21437d3cb1f037c4ea6b50194639dfcf9d2e4   False        Sender   \n\n                                       CodeFor  \n0                                               \n1                                               \n2   0x7d2768de32b0b80b7a3454c06bdac94a69ddc7a9  \n3                                               \n4   0x030ba81f1c18d280636f32af80b9aad02cf0854e  \n5                                               \n6   0x4ce076b9dd956196b814e54e1714338f18fde3f4  \n7                                               \n8                                               \n9                                               \n10  0xf63b34710400cad3e044cffdcab00a0f32e33ecf  \n11                                              \n12  0x4e977830ba4bd783c0bb7f15d3e243f73ff57121  \n13                                              \n14  0xd784927ff2f95ba542bfc824c8a8a98f3495f6b5  \n15                                              \n16                                              \n17                                              ",
      "text/html": "<div>\n<style scoped>\n    .dataframe tbody tr th:only-of-type {\n        vertical-align: middle;\n    }\n\n    .dataframe tbody tr th {\n        vertical-align: top;\n    }\n\n    .dataframe thead th {\n        text-align: right;\n    }\n</style>\n<table border=\"1\" class=\"dataframe\">\n  <thead>\n    <tr style=\"text-align: right;\">\n      <th></th>\n      <th>Address</th>\n      <th>isToken</th>\n      <th>Cluster</th>\n      <th>CodeFor</th>\n    </tr>\n  </thead>\n  <tbody>\n    <tr>\n      <th>0</th>\n      <td>0x18bc0c665ca5cc6134b0c9d054784924e5d93d28</td>\n      <td>False</td>\n      <td>0</td>\n      <td></td>\n    </tr>\n    <tr>\n      <th>1</th>\n      <td>0x7d2768de32b0b80b7a3454c06bdac94a69ddc7a9</td>\n      <td>False</td>\n      <td>0</td>\n      <td></td>\n    </tr>\n    <tr>\n      <th>2</th>\n      <td>0xc6845a5c768bf8d7681249f8927877efda425baf</td>\n      <td>False</td>\n      <td>0</td>\n      <td>0x7d2768de32b0b80b7a3454c06bdac94a69ddc7a9</td>\n    </tr>\n    <tr>\n      <th>3</th>\n      <td>0x030ba81f1c18d280636f32af80b9aad02cf0854e</td>\n      <td>True</td>\n      <td>0</td>\n      <td></td>\n    </tr>\n    <tr>\n      <th>4</th>\n      <td>0x541dcd3f00bcd1a683cc73e1b2a8693b602201f4</td>\n      <td>True</td>\n      <td>0</td>\n      <td>0x030ba81f1c18d280636f32af80b9aad02cf0854e</td>\n    </tr>\n    <tr>\n      <th>5</th>\n      <td>0xc02aaa39b223fe8d0a0e5c4f27ead9083c756cc2</td>\n      <td>True</td>\n      <td>Simple Token</td>\n      <td></td>\n    </tr>\n    <tr>\n      <th>6</th>\n      <td>0xb53c1a33016b2dc2ff3653530bff1848a515c8c5</td>\n      <td>False</td>\n      <td>0</td>\n      <td>0x4ce076b9dd956196b814e54e1714338f18fde3f4</td>\n    </tr>\n    <tr>\n      <th>7</th>\n      <td>0xbd4765210d4167ce2a5b87280d9e8ee316d5ec7c</td>\n      <td>False</td>\n      <td>0</td>\n      <td></td>\n    </tr>\n    <tr>\n      <th>8</th>\n      <td>0xa50ba011c48153de246e5192c8f9258a2ba79ca9</td>\n      <td>False</td>\n      <td>0</td>\n      <td></td>\n    </tr>\n    <tr>\n      <th>9</th>\n      <td>0xf63b34710400cad3e044cffdcab00a0f32e33ecf</td>\n      <td>True</td>\n      <td>0</td>\n      <td></td>\n    </tr>\n    <tr>\n      <th>10</th>\n      <td>0xddde1fa049209bc24b69d5fa316a56efec918d79</td>\n      <td>True</td>\n      <td>0</td>\n      <td>0xf63b34710400cad3e044cffdcab00a0f32e33ecf</td>\n    </tr>\n    <tr>\n      <th>11</th>\n      <td>0x4e977830ba4bd783c0bb7f15d3e243f73ff57121</td>\n      <td>True</td>\n      <td>0</td>\n      <td></td>\n    </tr>\n    <tr>\n      <th>12</th>\n      <td>0xa558ea1a875f8b576f0728d32c39f62158e49b92</td>\n      <td>True</td>\n      <td>0</td>\n      <td>0x4e977830ba4bd783c0bb7f15d3e243f73ff57121</td>\n    </tr>\n    <tr>\n      <th>13</th>\n      <td>0xd784927ff2f95ba542bfc824c8a8a98f3495f6b5</td>\n      <td>False</td>\n      <td>0</td>\n      <td></td>\n    </tr>\n    <tr>\n      <th>14</th>\n      <td>0x83d055d382f25e6793099713505c68a5c7535a35</td>\n      <td>False</td>\n      <td>0</td>\n      <td>0xd784927ff2f95ba542bfc824c8a8a98f3495f6b5</td>\n    </tr>\n    <tr>\n      <th>15</th>\n      <td>0x4ce076b9dd956196b814e54e1714338f18fde3f4</td>\n      <td>False</td>\n      <td>0</td>\n      <td></td>\n    </tr>\n    <tr>\n      <th>16</th>\n      <td>0x8a32f49ffba88aba6eff96f45d8bd1d4b3f35c7d</td>\n      <td>False</td>\n      <td>0</td>\n      <td></td>\n    </tr>\n    <tr>\n      <th>17</th>\n      <td>0x75c21437d3cb1f037c4ea6b50194639dfcf9d2e4</td>\n      <td>False</td>\n      <td>Sender</td>\n      <td></td>\n    </tr>\n  </tbody>\n</table>\n</div>"
     },
     "execution_count": 1,
     "metadata": {},
     "output_type": "execute_result"
    }
   ],
   "source": [
    "from src.tx_analyzer import *\n",
    "tx = \"0x4494df0f8db3a839ed914bfa58103f7e01b85d159a7d7d6c1851044aa35eadcb\"\n",
    "bq = BitQuery()\n",
    "_ = bq.parse(tx)\n",
    "bq.to_pandas()"
   ]
  }
 ],
 "metadata": {
  "kernelspec": {
   "display_name": "Python 3 (ipykernel)",
   "language": "python",
   "name": "python3"
  },
  "language_info": {
   "codemirror_mode": {
    "name": "ipython",
    "version": 3
   },
   "file_extension": ".py",
   "mimetype": "text/x-python",
   "name": "python",
   "nbconvert_exporter": "python",
   "pygments_lexer": "ipython3",
   "version": "3.8.10"
  }
 },
 "nbformat": 4,
 "nbformat_minor": 1
}