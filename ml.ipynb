{
 "cells": [
  {
   "cell_type": "code",
   "execution_count": 1,
   "outputs": [],
   "source": [
    "import julia\n",
    "from julia import Julia"
   ],
   "metadata": {
    "collapsed": false,
    "pycharm": {
     "name": "#%%\n"
    }
   }
  },
  {
   "cell_type": "code",
   "execution_count": 6,
   "outputs": [
    {
     "name": "stderr",
     "output_type": "stream",
     "text": [
      "[ Info: Julia version info\n"
     ]
    },
    {
     "name": "stdout",
     "output_type": "stream",
     "text": [
      "Julia Version 1.7.2\n",
      "Commit bf53498635 (2022-02-06 15:21 UTC)\n",
      "Platform Info:\n",
      "  OS: Linux (x86_64-pc-linux-gnu)\n",
      "      Ubuntu 20.04.4 LTS\n",
      "  uname: Linux 5.14.0-1031-oem #34-Ubuntu SMP Fri Mar 25 08:21:05 UTC 2022 x86_64 x86_64\n",
      "  CPU: AMD Ryzen 7 4700U with Radeon Graphics: \n",
      "              speed         user         nice          sys         idle          irq\n",
      "       #1  1400 MHz      15341 s         32 s       3790 s     236933 s          0 s\n",
      "       #2  1400 MHz      15096 s         34 s       3767 s     237296 s          0 s\n",
      "       #3  1400 MHz      15633 s         38 s       3565 s     235171 s          0 s\n",
      "       #4  1433 MHz      15269 s         34 s       3590 s     236767 s          0 s\n",
      "       #5  1400 MHz      15097 s         46 s       3386 s     237905 s          0 s\n",
      "       #6  1400 MHz      15346 s         35 s       3336 s     237765 s          0 s\n",
      "       #7  1400 MHz      15216 s         36 s       3291 s     237756 s          0 s\n",
      "       #8  1400 MHz      14874 s         88 s       3297 s     238132 s          0 s\n",
      "       \n",
      "  Memory: 7.146495819091797 GB (127.9921875 MB free)\n",
      "  Uptime: 25904.3 sec\n",
      "  Load Avg:  1.61  1.34  1.13\n",
      "  WORD_SIZE: 64\n",
      "  LIBM: libopenlibm\n",
      "  LLVM: libLLVM-12.0.1 (ORCJIT, znver2)\n",
      "Environment:\n",
      "  PATH = /home/paavo/.opam/default/bin:/home/paavo/.cargo/bin:/home/paavo/.local/bin:/usr/local/sbin:/usr/local/bin:/usr/sbin:/usr/bin:/sbin:/bin:/usr/games:/usr/local/games:/snap/bin:/home/paavo/.dotnet/tools:/home/paavo/go/bin:/home/paavo/go/bin:/usr/local/go/bin\n",
      "  PT8HOME = /opt/pt\n",
      "  PYTHONPATH = /home/paavo/Desktop/Python3/P2PAnalyzer\n",
      "  GOPATH = /home/paavo/go\n",
      "  SNAP_LIBRARY_PATH = /var/lib/snapd/lib/gl:/var/lib/snapd/lib/gl32:/var/lib/snapd/void\n",
      "  MANPATH = :/home/paavo/.opam/default/man\n",
      "  SNAP_REAL_HOME = /home/paavo\n",
      "  WINDOWPATH = 2\n",
      "  HOME = /home/paavo\n",
      "  TERM = xterm-color\n"
     ]
    },
    {
     "name": "stderr",
     "output_type": "stream",
     "text": [
      "[ Info: Julia executable: /home/paavo/packages/julias/julia-1.7/bin/julia\n",
      "[ Info: Trying to import PyCall...\n",
      "┌ Error: `import PyCall` failed\n",
      "│   exception =\n",
      "│    ArgumentError: Package PyCall [438e738f-606a-5dbb-bf0a-cddfbfd45ab0] is required but does not seem to be installed:\n",
      "│     - Run `Pkg.instantiate()` to install all recorded dependencies.\n",
      "│    \n",
      "│    Stacktrace:\n",
      "│     [1] _require(pkg::Base.PkgId)\n",
      "│       @ Base ./loading.jl:1089\n",
      "│     [2] require(uuidkey::Base.PkgId)\n",
      "│       @ Base ./loading.jl:1013\n",
      "│     [3] top-level scope\n",
      "│       @ ~/.local/lib/python3.8/site-packages/julia/install.jl:36\n",
      "│     [4] include(mod::Module, _path::String)\n",
      "│       @ Base ./Base.jl:418\n",
      "│     [5] exec_options(opts::Base.JLOptions)\n",
      "│       @ Base ./client.jl:292\n",
      "│     [6] _start()\n",
      "│       @ Base ./client.jl:495\n",
      "└ @ Main ~/.local/lib/python3.8/site-packages/julia/install.jl:38\n",
      "[ Info: Installing PyCall...\n",
      "  Installing known registries into `~/.julia`\n",
      "    Updating registry at `~/.julia/registries/General.toml`\n",
      "   Resolving package versions...\n",
      "   Installed Conda ────────── v1.7.0\n",
      "   Installed VersionParsing ─ v1.3.0\n",
      "   Installed Parsers ──────── v2.2.4\n",
      "   Installed MacroTools ───── v0.5.9\n",
      "   Installed PyCall ───────── v1.93.1\n",
      "   Installed JSON ─────────── v0.21.3\n",
      "    Updating `~/.julia/environments/v1.7/Project.toml`\n",
      "  [438e738f] + PyCall v1.93.1\n",
      "    Updating `~/.julia/environments/v1.7/Manifest.toml`\n",
      "  [8f4d0f93] + Conda v1.7.0\n",
      "  [682c06a0] + JSON v0.21.3\n",
      "  [1914dd2f] + MacroTools v0.5.9\n",
      "  [69de0a69] + Parsers v2.2.4\n",
      "  [438e738f] + PyCall v1.93.1\n",
      "  [81def892] + VersionParsing v1.3.0\n",
      "  [0dad84c5] + ArgTools\n",
      "  [56f22d72] + Artifacts\n",
      "  [2a0f44e3] + Base64\n",
      "  [ade2ca70] + Dates\n",
      "  [f43a241f] + Downloads\n",
      "  [b27032c2] + LibCURL\n",
      "  [8f399da3] + Libdl\n",
      "  [37e2e46d] + LinearAlgebra\n",
      "  [d6f4376e] + Markdown\n",
      "  [a63ad114] + Mmap\n",
      "  [ca575930] + NetworkOptions\n",
      "  [de0858da] + Printf\n",
      "  [9a3f8284] + Random\n",
      "  [ea8e919c] + SHA\n",
      "  [9e88b42a] + Serialization\n",
      "  [4ec0a83e] + Unicode\n",
      "  [e66e0078] + CompilerSupportLibraries_jll\n",
      "  [deac9b47] + LibCURL_jll\n",
      "  [29816b5a] + LibSSH2_jll\n",
      "  [c8ffd9c3] + MbedTLS_jll\n",
      "  [14a3606d] + MozillaCACerts_jll\n",
      "  [4536629a] + OpenBLAS_jll\n",
      "  [83775a58] + Zlib_jll\n",
      "  [8e850b90] + libblastrampoline_jll\n",
      "  [8e850ede] + nghttp2_jll\n",
      "    Building Conda ─→ `~/.julia/scratchspaces/44cfe95a-1eb2-52ea-b672-e2afdf69b78f/6e47d11ea2776bc5627421d59cdcc1296c058071/build.log`\n",
      "    Building PyCall → `~/.julia/scratchspaces/44cfe95a-1eb2-52ea-b672-e2afdf69b78f/1fc929f47d7c151c839c5fc1375929766fb8edcc/build.log`\n",
      "Precompiling project...\n",
      "\u001B[32m  ✓ \u001B[39m\u001B[90mMbedTLS_jll\u001B[39m\n",
      "\u001B[32m  ✓ \u001B[39m\u001B[90mZlib_jll\u001B[39m\n",
      "\u001B[32m  ✓ \u001B[39m\u001B[90mCompilerSupportLibraries_jll\u001B[39m\n",
      "\u001B[32m  ✓ \u001B[39m\u001B[90mLibSSH2_jll\u001B[39m\n",
      "\u001B[32m  ✓ \u001B[39m\u001B[90mOpenBLAS_jll\u001B[39m\n",
      "\u001B[32m  ✓ \u001B[39m\u001B[90mlibblastrampoline_jll\u001B[39m\n",
      "\u001B[32m  ✓ \u001B[39m\u001B[90mMacroTools\u001B[39m\n",
      "\u001B[32m  ✓ \u001B[39mPyCall\n",
      "  8 dependencies successfully precompiled in 5 seconds (4 already precompiled)\n",
      "\n",
      "Precompiling PyCall...\n",
      "Precompiling PyCall... DONE\n",
      "PyCall is installed and built successfully.\n"
     ]
    }
   ],
   "source": [
    "julia.install()"
   ],
   "metadata": {
    "collapsed": false,
    "pycharm": {
     "name": "#%%\n"
    }
   }
  },
  {
   "cell_type": "code",
   "execution_count": 2,
   "outputs": [
    {
     "name": "stderr",
     "output_type": "stream",
     "text": [
      "/home/paavo/.local/lib/python3.8/site-packages/julia/core.py:703: FutureWarning: Accessing `Julia().<name>` to obtain Julia objects is deprecated.  Use `from julia import Main; Main.<name>` or `jl = Julia(); jl.eval('<name>')`.\n",
      "  warnings.warn(\n"
     ]
    },
    {
     "data": {
      "text/plain": "<julia.core.LegacyJulia at 0x7ff0c0302ac0>"
     },
     "execution_count": 2,
     "metadata": {},
     "output_type": "execute_result"
    }
   ],
   "source": [
    "Julia(compiled_modules=False)\n"
   ],
   "metadata": {
    "collapsed": false,
    "pycharm": {
     "name": "#%%\n"
    }
   }
  },
  {
   "cell_type": "code",
   "execution_count": 8,
   "outputs": [
    {
     "name": "stderr",
     "output_type": "stream",
     "text": [
      "    Updating registry at `~/.julia/registries/General.toml`\n",
      "   Resolving package versions...\n",
      "   Installed Crayons ───────────────────── v4.1.1\n",
      "   Installed IrrationalConstants ───────── v0.1.1\n",
      "   Installed ColorTypes ────────────────── v0.11.0\n",
      "   Installed Adapt ─────────────────────── v3.3.3\n",
      "   Installed JLD2 ──────────────────────── v0.4.22\n",
      "   Installed Transducers ───────────────── v0.4.73\n",
      "   Installed ArgCheck ──────────────────── v2.3.0\n",
      "   Installed GZip ──────────────────────── v0.5.1\n",
      "   Installed ContextVariablesX ─────────── v0.1.2\n",
      "   Installed ShowCases ─────────────────── v0.1.0\n",
      "   Installed InternedStrings ───────────── v0.7.0\n",
      "   Installed JSON3 ─────────────────────── v1.9.4\n",
      "   Installed FLoopsBase ────────────────── v0.1.1\n",
      "   Installed TableTraits ───────────────── v1.0.1\n",
      "   Installed Preferences ───────────────── v1.3.0\n",
      "   Installed Accessors ─────────────────── v0.1.9\n",
      "   Installed OpenSSL_jll ───────────────── v1.1.14+0\n",
      "   Installed FoldsThreads ──────────────── v0.1.1\n",
      "   Installed SentinelArrays ────────────── v1.3.12\n",
      "   Installed DataDeps ──────────────────── v0.7.7\n",
      "   Installed DataAPI ───────────────────── v1.9.0\n",
      "   Installed Tables ────────────────────── v1.7.0\n",
      "   Installed FixedPointNumbers ─────────── v0.8.4\n",
      "   Installed Setfield ──────────────────── v0.8.2\n",
      "   Installed PrettyTables ──────────────── v1.3.1\n",
      "   Installed InlineStrings ─────────────── v1.1.2\n",
      "   Installed PooledArrays ──────────────── v1.4.1\n",
      "   Installed Baselet ───────────────────── v0.1.1\n",
      "   Installed ZipFile ───────────────────── v0.9.4\n",
      "   Installed StringEncodings ───────────── v0.3.5\n",
      "   Installed JLLWrappers ───────────────── v1.4.1\n",
      "   Installed IteratorInterfaceExtensions ─ v1.0.0\n",
      "   Installed Libiconv_jll ──────────────── v1.16.1+1\n",
      "   Installed Formatting ────────────────── v0.4.2\n",
      "   Installed ConstructionBase ──────────── v1.3.0\n",
      "   Installed DefineSingletons ──────────── v0.1.2\n",
      "   Installed IniFile ───────────────────── v0.5.1\n",
      "   Installed MicroCollections ──────────── v0.1.2\n",
      "   Installed URIs ──────────────────────── v1.3.0\n",
      "   Installed DataValueInterfaces ───────── v1.0.0\n",
      "   Installed OrderedCollections ────────── v1.4.1\n",
      "   Installed NameResolution ────────────── v0.1.5\n",
      "   Installed URIParser ─────────────────── v0.4.1\n",
      "   Installed TranscodingStreams ────────── v0.9.6\n",
      "   Installed ChainRulesCore ────────────── v1.14.0\n",
      "   Installed HDF5 ──────────────────────── v0.16.6\n",
      "   Installed FunctionWrappers ──────────── v1.1.2\n",
      "   Installed InvertedIndices ───────────── v1.1.0\n",
      "   Installed FilePathsBase ─────────────── v0.9.18\n",
      "   Installed InitialValues ─────────────── v0.3.1\n",
      "   Installed FileIO ────────────────────── v1.13.0\n",
      "   Installed HTTP ──────────────────────── v0.9.17\n",
      "   Installed MAT ───────────────────────── v0.10.3\n",
      "   Installed Reexport ──────────────────── v1.2.2\n",
      "   Installed CSV ───────────────────────── v0.10.4\n",
      "   Installed WeakRefStrings ────────────── v1.4.2\n",
      "   Installed MbedTLS ───────────────────── v1.0.3\n",
      "   Installed SplittablesBase ───────────── v0.1.14\n",
      "   Installed LogExpFunctions ───────────── v0.3.12\n",
      "   Installed BinaryProvider ────────────── v0.5.10\n",
      "   Installed DataStructures ────────────── v0.18.11\n",
      "   Installed DataFrames ────────────────── v1.3.3\n",
      "   Installed ZygoteRules ───────────────── v0.2.2\n",
      "   Installed StatsAPI ──────────────────── v1.2.2\n",
      "   Installed PrettyPrint ───────────────── v0.2.0\n",
      "   Installed BufferedStreams ───────────── v1.0.0\n",
      "   Installed Requires ──────────────────── v1.3.0\n",
      "   Installed Strided ───────────────────── v1.2.1\n",
      "   Installed CompositionsBase ──────────── v0.1.1\n",
      "   Installed Compat ────────────────────── v3.43.0\n",
      "   Installed Julia"
     ]
    }
   ],
   "source": [
    "from julia import Pkg\n",
    "Pkg.add(\"MLDatasets\")\n",
    "Pkg.add(\"Flux\")\n",
    "Pkg.add(\"Mill\")\n",
    "Pkg.add(\"MLDataPattern\")\n",
    "Pkg.add(\"Statistics\")\n",
    "Pkg.add(name=\"JsonGrinder\", rev=\"master\")"
   ],
   "metadata": {
    "collapsed": false,
    "pycharm": {
     "name": "#%%\n"
    }
   }
  },
  {
   "cell_type": "code",
   "execution_count": 3,
   "outputs": [
    {
     "name": "stderr",
     "output_type": "stream",
     "text": [
      "WARNING: could not import Printf.ini_hex into BFloat16s\n",
      "WARNING: could not import Printf.ini_HEX into BFloat16s\n"
     ]
    }
   ],
   "source": [
    "from julia import JsonGrinder"
   ],
   "metadata": {
    "collapsed": false,
    "pycharm": {
     "name": "#%%\n"
    }
   }
  },
  {
   "cell_type": "code",
   "execution_count": 4,
   "outputs": [
    {
     "name": "stderr",
     "output_type": "stream",
     "text": [
      "WARNING: could not import HDF5.exists into MAT\n"
     ]
    }
   ],
   "source": [
    "from julia import MLDatasets, Flux, Mill, MLDataPattern, Statistics"
   ],
   "metadata": {
    "collapsed": false,
    "pycharm": {
     "name": "#%%\n"
    }
   }
  },
  {
   "cell_type": "code",
   "execution_count": null,
   "outputs": [],
   "source": [],
   "metadata": {
    "collapsed": false,
    "pycharm": {
     "name": "#%%\n"
    }
   }
  },
  {
   "cell_type": "code",
   "execution_count": 5,
   "outputs": [
    {
     "name": "stdout",
     "output_type": "stream",
     "text": [
      "This program has requested access to the data dependency Mutagenesis.\n",
      "which is not currently installed. It can be installed automatically, and you will not see this message again.\n",
      "\n",
      "Dataset: The Mutagenesis dataset.\n",
      "Website: https://relational.fit.cvut.cz/dataset/Mutagenesis\n",
      "License: CC0\n",
      "\n",
      "\n",
      "\n",
      "Do you want to download the dataset from [\"https://raw.githubusercontent.com/CTUAvastLab/datasets/main/mutagenesis/data.json\", \"https://raw.githubusercontent.com/CTUAvastLab/datasets/main/mutagenesis/meta.json\"] to \"/home/paavo/.julia/datadeps/Mutagenesis\"?\n",
      "[y/n]\n",
      "Do you want to download the dataset from [\"https://raw.githubusercontent.com/CTUAvastLab/datasets/main/mutagenesis/data.json\", \"https://raw.githubusercontent.com/CTUAvastLab/datasets/main/mutagenesis/meta.json\"] to \"/home/paavo/.julia/datadeps/Mutagenesis\"?\n",
      "[y/n]\n"
     ]
    },
    {
     "ename": "RuntimeError",
     "evalue": "<PyCall.jlwrap (in a Julia function called from Python)\nJULIA: IOError: Could not open stream.\nStacktrace:\n  [1] better_readline(stream::Base.PipeEndpoint)\n    @ DataDeps ~/.julia/packages/DataDeps/ooWXe/src/util.jl:57\n  [2] better_readline()\n    @ DataDeps ~/.julia/packages/DataDeps/ooWXe/src/util.jl:55\n  [3] input_choice(::String, ::Char, ::Vararg{Char})\n    @ DataDeps ~/.julia/packages/DataDeps/ooWXe/src/util.jl:82\n  [4] input_bool\n    @ ~/.julia/packages/DataDeps/ooWXe/src/util.jl:70 [inlined]\n  [5] check_if_accept_terms(datadep::DataDeps.DataDep{String, Vector{String}, typeof(DataDeps.fetch_default), typeof(identity)}, localpath::String, remotepath::Vector{String})\n    @ DataDeps ~/.julia/packages/DataDeps/ooWXe/src/resolution_automatic.jl:180\n  [6] accept_terms\n    @ ~/.julia/packages/DataDeps/ooWXe/src/resolution_automatic.jl:163 [inlined]\n  [7] download(datadep::DataDeps.DataDep{String, Vector{String}, typeof(DataDeps.fetch_default), typeof(identity)}, localdir::String; remotepath::Vector{String}, i_accept_the_terms_of_use::Nothing, skip_checksum::Bool)\n    @ DataDeps ~/.julia/packages/DataDeps/ooWXe/src/resolution_automatic.jl:72\n  [8] download\n    @ ~/.julia/packages/DataDeps/ooWXe/src/resolution_automatic.jl:70 [inlined]\n  [9] handle_missing\n    @ ~/.julia/packages/DataDeps/ooWXe/src/resolution_automatic.jl:10 [inlined]\n [10] _resolve\n    @ ~/.julia/packages/DataDeps/ooWXe/src/resolution.jl:83 [inlined]\n [11] resolve(datadep::DataDeps.DataDep{String, Vector{String}, typeof(DataDeps.fetch_default), typeof(identity)}, inner_filepath::String, calling_filepath::String)\n    @ DataDeps ~/.julia/packages/DataDeps/ooWXe/src/resolution.jl:29\n [12] resolve(datadep_name::String, inner_filepath::String, calling_filepath::String)\n    @ DataDeps ~/.julia/packages/DataDeps/ooWXe/src/resolution.jl:54\n [13] resolve\n    @ ~/.julia/packages/DataDeps/ooWXe/src/resolution.jl:73 [inlined]\n [14] #11\n    @ ~/.julia/packages/MLDatasets/N3Lgo/src/download.jl:17 [inlined]\n [15] withenv(f::MLDatasets.var\"#11#12\"{String, Nothing}, keyvals::Pair{String, String})\n    @ Base ./env.jl:172\n [16] with_accept\n    @ ~/.julia/packages/MLDatasets/N3Lgo/src/download.jl:10 [inlined]\n [17] #datadir#10\n    @ ~/.julia/packages/MLDatasets/N3Lgo/src/download.jl:14 [inlined]\n [18] datadir\n    @ ~/.julia/packages/MLDatasets/N3Lgo/src/download.jl:14 [inlined]\n [19] datafile(depname::String, filename::String, dir::Nothing; recurse::Bool, kw::Base.Pairs{Symbol, Union{}, Tuple{}, NamedTuple{(), Tuple{}}})\n    @ MLDatasets ~/.julia/packages/MLDatasets/N3Lgo/src/download.jl:32\n [20] datafile\n    @ ~/.julia/packages/MLDatasets/N3Lgo/src/download.jl:32 [inlined]\n [21] load_data(dir::Nothing)\n    @ MLDatasets.Mutagenesis ~/.julia/packages/MLDatasets/N3Lgo/src/Mutagenesis/Mutagenesis.jl:81\n [22] traindata(dir::Nothing)\n    @ MLDatasets.Mutagenesis ~/.julia/packages/MLDatasets/N3Lgo/src/Mutagenesis/Mutagenesis.jl:66\n [23] #traindata#1\n    @ ~/.julia/packages/MLDatasets/N3Lgo/src/Mutagenesis/Mutagenesis.jl:61 [inlined]\n [24] traindata()\n    @ MLDatasets.Mutagenesis ~/.julia/packages/MLDatasets/N3Lgo/src/Mutagenesis/Mutagenesis.jl:61\n [25] #invokelatest#2\n    @ ./essentials.jl:716 [inlined]\n [26] invokelatest(::Any)\n    @ Base ./essentials.jl:714\n [27] _pyjlwrap_call(f::Function, args_::Ptr{PyCall.PyObject_struct}, kw_::Ptr{PyCall.PyObject_struct})\n    @ PyCall ~/.julia/packages/PyCall/7a7w0/src/callback.jl:28\n [28] pyjlwrap_call(self_::Ptr{PyCall.PyObject_struct}, args_::Ptr{PyCall.PyObject_struct}, kw_::Ptr{PyCall.PyObject_struct})\n    @ PyCall ~/.julia/packages/PyCall/7a7w0/src/callback.jl:44>",
     "output_type": "error",
     "traceback": [
      "\u001B[0;31m---------------------------------------------------------------------------\u001B[0m",
      "\u001B[0;31mRuntimeError\u001B[0m                              Traceback (most recent call last)",
      "\u001B[0;32m/tmp/ipykernel_40740/1035412934.py\u001B[0m in \u001B[0;36m<module>\u001B[0;34m\u001B[0m\n\u001B[0;32m----> 1\u001B[0;31m \u001B[0mtrain_x\u001B[0m\u001B[0;34m,\u001B[0m \u001B[0mtrain_y\u001B[0m \u001B[0;34m=\u001B[0m \u001B[0mMLDatasets\u001B[0m\u001B[0;34m.\u001B[0m\u001B[0mMutagenesis\u001B[0m\u001B[0;34m.\u001B[0m\u001B[0mtraindata\u001B[0m\u001B[0;34m(\u001B[0m\u001B[0;34m)\u001B[0m\u001B[0;34m;\u001B[0m\u001B[0;34m\u001B[0m\u001B[0;34m\u001B[0m\u001B[0m\n\u001B[0m\u001B[1;32m      2\u001B[0m \u001B[0mtest_x\u001B[0m\u001B[0;34m,\u001B[0m \u001B[0mtest_y\u001B[0m \u001B[0;34m=\u001B[0m \u001B[0mMLDatasets\u001B[0m\u001B[0;34m.\u001B[0m\u001B[0mMutagenesis\u001B[0m\u001B[0;34m.\u001B[0m\u001B[0mtestdata\u001B[0m\u001B[0;34m(\u001B[0m\u001B[0;34m)\u001B[0m\u001B[0;34m;\u001B[0m\u001B[0;34m\u001B[0m\u001B[0;34m\u001B[0m\u001B[0m\n",
      "\u001B[0;31mRuntimeError\u001B[0m: <PyCall.jlwrap (in a Julia function called from Python)\nJULIA: IOError: Could not open stream.\nStacktrace:\n  [1] better_readline(stream::Base.PipeEndpoint)\n    @ DataDeps ~/.julia/packages/DataDeps/ooWXe/src/util.jl:57\n  [2] better_readline()\n    @ DataDeps ~/.julia/packages/DataDeps/ooWXe/src/util.jl:55\n  [3] input_choice(::String, ::Char, ::Vararg{Char})\n    @ DataDeps ~/.julia/packages/DataDeps/ooWXe/src/util.jl:82\n  [4] input_bool\n    @ ~/.julia/packages/DataDeps/ooWXe/src/util.jl:70 [inlined]\n  [5] check_if_accept_terms(datadep::DataDeps.DataDep{String, Vector{String}, typeof(DataDeps.fetch_default), typeof(identity)}, localpath::String, remotepath::Vector{String})\n    @ DataDeps ~/.julia/packages/DataDeps/ooWXe/src/resolution_automatic.jl:180\n  [6] accept_terms\n    @ ~/.julia/packages/DataDeps/ooWXe/src/resolution_automatic.jl:163 [inlined]\n  [7] download(datadep::DataDeps.DataDep{String, Vector{String}, typeof(DataDeps.fetch_default), typeof(identity)}, localdir::String; remotepath::Vector{String}, i_accept_the_terms_of_use::Nothing, skip_checksum::Bool)\n    @ DataDeps ~/.julia/packages/DataDeps/ooWXe/src/resolution_automatic.jl:72\n  [8] download\n    @ ~/.julia/packages/DataDeps/ooWXe/src/resolution_automatic.jl:70 [inlined]\n  [9] handle_missing\n    @ ~/.julia/packages/DataDeps/ooWXe/src/resolution_automatic.jl:10 [inlined]\n [10] _resolve\n    @ ~/.julia/packages/DataDeps/ooWXe/src/resolution.jl:83 [inlined]\n [11] resolve(datadep::DataDeps.DataDep{String, Vector{String}, typeof(DataDeps.fetch_default), typeof(identity)}, inner_filepath::String, calling_filepath::String)\n    @ DataDeps ~/.julia/packages/DataDeps/ooWXe/src/resolution.jl:29\n [12] resolve(datadep_name::String, inner_filepath::String, calling_filepath::String)\n    @ DataDeps ~/.julia/packages/DataDeps/ooWXe/src/resolution.jl:54\n [13] resolve\n    @ ~/.julia/packages/DataDeps/ooWXe/src/resolution.jl:73 [inlined]\n [14] #11\n    @ ~/.julia/packages/MLDatasets/N3Lgo/src/download.jl:17 [inlined]\n [15] withenv(f::MLDatasets.var\"#11#12\"{String, Nothing}, keyvals::Pair{String, String})\n    @ Base ./env.jl:172\n [16] with_accept\n    @ ~/.julia/packages/MLDatasets/N3Lgo/src/download.jl:10 [inlined]\n [17] #datadir#10\n    @ ~/.julia/packages/MLDatasets/N3Lgo/src/download.jl:14 [inlined]\n [18] datadir\n    @ ~/.julia/packages/MLDatasets/N3Lgo/src/download.jl:14 [inlined]\n [19] datafile(depname::String, filename::String, dir::Nothing; recurse::Bool, kw::Base.Pairs{Symbol, Union{}, Tuple{}, NamedTuple{(), Tuple{}}})\n    @ MLDatasets ~/.julia/packages/MLDatasets/N3Lgo/src/download.jl:32\n [20] datafile\n    @ ~/.julia/packages/MLDatasets/N3Lgo/src/download.jl:32 [inlined]\n [21] load_data(dir::Nothing)\n    @ MLDatasets.Mutagenesis ~/.julia/packages/MLDatasets/N3Lgo/src/Mutagenesis/Mutagenesis.jl:81\n [22] traindata(dir::Nothing)\n    @ MLDatasets.Mutagenesis ~/.julia/packages/MLDatasets/N3Lgo/src/Mutagenesis/Mutagenesis.jl:66\n [23] #traindata#1\n    @ ~/.julia/packages/MLDatasets/N3Lgo/src/Mutagenesis/Mutagenesis.jl:61 [inlined]\n [24] traindata()\n    @ MLDatasets.Mutagenesis ~/.julia/packages/MLDatasets/N3Lgo/src/Mutagenesis/Mutagenesis.jl:61\n [25] #invokelatest#2\n    @ ./essentials.jl:716 [inlined]\n [26] invokelatest(::Any)\n    @ Base ./essentials.jl:714\n [27] _pyjlwrap_call(f::Function, args_::Ptr{PyCall.PyObject_struct}, kw_::Ptr{PyCall.PyObject_struct})\n    @ PyCall ~/.julia/packages/PyCall/7a7w0/src/callback.jl:28\n [28] pyjlwrap_call(self_::Ptr{PyCall.PyObject_struct}, args_::Ptr{PyCall.PyObject_struct}, kw_::Ptr{PyCall.PyObject_struct})\n    @ PyCall ~/.julia/packages/PyCall/7a7w0/src/callback.jl:44>"
     ]
    }
   ],
   "source": [
    "train_x, train_y = MLDatasets.Mutagenesis.traindata()\n",
    "test_x, test_y = MLDatasets.Mutagenesis.testdata()"
   ],
   "metadata": {
    "collapsed": false,
    "pycharm": {
     "name": "#%%\n"
    }
   }
  }
 ],
 "metadata": {
  "kernelspec": {
   "display_name": "Python 3",
   "language": "python",
   "name": "python3"
  },
  "language_info": {
   "codemirror_mode": {
    "name": "ipython",
    "version": 2
   },
   "file_extension": ".py",
   "mimetype": "text/x-python",
   "name": "python",
   "nbconvert_exporter": "python",
   "pygments_lexer": "ipython2",
   "version": "2.7.6"
  }
 },
 "nbformat": 4,
 "nbformat_minor": 0
}