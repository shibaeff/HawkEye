{
 "cells": [
  {
   "cell_type": "code",
   "execution_count": 4,
   "metadata": {
    "collapsed": true,
    "pycharm": {
     "name": "#%%\n"
    }
   },
   "outputs": [],
   "source": [
    "import pandas as pd\n",
    "from src.hawk_eye import HawkEye, txQuery\n",
    "from src.tester import TokenTester\n",
    "from src.bitquery_api import BitqueryAPI\n",
    "from sklearn.feature_extraction.text import *"
   ]
  },
  {
   "cell_type": "code",
   "execution_count": 3,
   "outputs": [],
   "source": [
    "transactions = [\n",
    "    \"0xade227c3ad59395cf7a15ceb56085a77c61a29216858fc789d8413ef929a5fbe\",\n",
    "    \"0x4494df0f8db3a839ed914bfa58103f7e01b85d159a7d7d6c1851044aa35eadcb\",\n",
    "    \"0x8c8c579b81e40d412c969951c36c8b60a650d626a080bdcf812e0e82b4e72535\",\n",
    "    \"0x36682e448066ae1831d216c8c4cb3432c7cdddd17c5cd2f17e6582320af68e0b\",\n",
    "    \"0x1d7ed2a71554e69289f7e6602d9f9ef2b9171489966fea336ba9c6670f0fc0e5\",\n",
    "    \"0xbfdbbfd8d016f960858bf505b5dccd614f5066aef91b5cb756b7f12f8b7fc532\",\n",
    "    \"0x9bc514d784ee389511d16ad66a47dc9b58e7a7717efec5609e61f6bf1539717c\",\n",
    "    \"0x2e75b9222616e3970d5408fe33ab994f02f3a207af4dd003fa7ea4b94fbaddbd\",\n",
    "    \"0x88e486e56b68fa127b93e9c394f5a91e2304c70f7f800acfbe88703f8456b601\"\n",
    "]"
   ],
   "metadata": {
    "collapsed": false,
    "pycharm": {
     "name": "#%%\n"
    }
   }
  },
  {
   "cell_type": "markdown",
   "source": [
    "# Analyze"
   ],
   "metadata": {
    "collapsed": false,
    "pycharm": {
     "name": "#%% md\n"
    }
   }
  },
  {
   "cell_type": "markdown",
   "source": [
    "Analyze transactions"
   ],
   "metadata": {
    "collapsed": false,
    "pycharm": {
     "name": "#%% md\n"
    }
   }
  },
  {
   "cell_type": "code",
   "execution_count": 18,
   "outputs": [
    {
     "name": "stdout",
     "output_type": "stream",
     "text": [
      "0xade227c3ad59395cf7a15ceb56085a77c61a29216858fc789d8413ef929a5fbe\n"
     ]
    }
   ],
   "source": [
    "results = []\n",
    "train_dfs = []\n",
    "cols = [\"smartContract.address.address\", 'smartContract.address.annotation', 'smartContract.protocolType', 'smartContract.currency.symbol', 'caller.annotation']\n",
    "for i, tx in enumerate(transactions[:1]):\n",
    "    print(tx)\n",
    "    res = BitqueryAPI(\"BQYx4E788q55x4PeFSdkhcYHkI7gjFHl\").run_query(txQuery % tx)\n",
    "    # df = pd.DataFrame(res[\"data\"][\"ethereum\"][\"smartContractCalls\"])\n",
    "    # train_dfs.append(df)\n",
    "    df = pd.json_normalize(res[\"data\"][\"ethereum\"][\"smartContractCalls\"], max_level=100, )\n",
    "    cols = [\"smartContract.address.address\", 'smartContract.address.annotation', 'smartContract.protocolType', 'smartContract.currency.symbol', 'caller.annotation']\n",
    "    df = df[cols]\n",
    "\n",
    "    # for col in cols[1:]:\n",
    "    #     cv = CountVectorizer()\n",
    "    #     X = cv.fit_transform(df[col].astype(str))\n",
    "    #     df = pd.concat([df, pd.DataFrame(X.todense(), columns=cv.get_feature_names())])\n",
    "    #     df = df.drop(col, axis=1)\n",
    "    df = df.drop_duplicates()\n",
    "    df = df.set_index(\"smartContract.address.address\")"
   ],
   "metadata": {
    "collapsed": false,
    "pycharm": {
     "name": "#%%\n"
    }
   }
  },
  {
   "cell_type": "code",
   "execution_count": 27,
   "outputs": [],
   "source": [
    "cv = CountVectorizer()\n",
    "X = cv.fit_transform(df['smartContract.address.annotation'].astype(str).values)"
   ],
   "metadata": {
    "collapsed": false,
    "pycharm": {
     "name": "#%%\n"
    }
   }
  },
  {
   "cell_type": "code",
   "execution_count": 19,
   "outputs": [
    {
     "data": {
      "text/plain": "                                                             smartContract.address.annotation  \\\nsmartContract.address.address                                                                   \n0x0fc584529a2aefa997697fafacba5831fac0c22d                                               None   \n0xc02aaa39b223fe8d0a0e5c4f27ead9083c756cc2  https://weth.io/, 0x Ecosystem, WrappedEther, ...   \n0xbe86f647b167567525ccaafcd6f881f1ee558216                                               None   \n0x612447e8d0bdb922059ce048bb5a7cef9e017812                                               None   \n0xd9e1ce17f2641f24ae83637ab66a2cca9c378b9f                                  Router, SushiSwap   \n0xd9f21104a0ab4bb2bc70774d4472b3c885fd022c                                               None   \n0xc02aaa39b223fe8d0a0e5c4f27ead9083c756cc2  https://weth.io/, 0x Ecosystem, WrappedEther, ...   \n0xe7f4c89032a2488d327323548ab0459676269331                                               None   \n0x73d2ff81fcea9832fc9ee90521abde1150f6b52a                                               None   \n0xfd8a76dc204e461db5da4f38687adc9cc5ae4a86                                               None   \n0x0ef372b6a2f8bb030760261b858b6c50e92d1680                                               None   \n0x3e135c3e981fae3383a5ae0d323860a34cfab893                                               None   \n0x72012ada1d0a9e9cba22b3f13f3bc52b57ed6b66                                               None   \n0xb91bca4c6a607448a093803b3b2a9a4ed3e9f71e                                               None   \n0xaddc3e67a500f7037cd622b11df291a6351bfb64                                               None   \n0x688c3e4658b5367da06fd629e41879beab538e37                                               None   \n0xf7a232044c586d658f826e1932c37cad770b0687                                               None   \n0x77655099f72484fa7d8cd701112c129b35b6ca6a                                               None   \n0xc90b47731f9cd4db0df36c1e59fdca1fe9806475                                               None   \n0x2216d47494e516d8206b70fca8585820ed3c4946                                               None   \n\n                                           smartContract.protocolType  \\\nsmartContract.address.address                                           \n0x0fc584529a2aefa997697fafacba5831fac0c22d                       None   \n0xc02aaa39b223fe8d0a0e5c4f27ead9083c756cc2                  Deposable   \n0xbe86f647b167567525ccaafcd6f881f1ee558216                       None   \n0x612447e8d0bdb922059ce048bb5a7cef9e017812                       None   \n0xd9e1ce17f2641f24ae83637ab66a2cca9c378b9f                       None   \n0xd9f21104a0ab4bb2bc70774d4472b3c885fd022c                 Uniswap v2   \n0xc02aaa39b223fe8d0a0e5c4f27ead9083c756cc2                  Deposable   \n0xe7f4c89032a2488d327323548ab0459676269331                       None   \n0x73d2ff81fcea9832fc9ee90521abde1150f6b52a                       None   \n0xfd8a76dc204e461db5da4f38687adc9cc5ae4a86                       None   \n0x0ef372b6a2f8bb030760261b858b6c50e92d1680                       None   \n0x3e135c3e981fae3383a5ae0d323860a34cfab893                       None   \n0x72012ada1d0a9e9cba22b3f13f3bc52b57ed6b66                       None   \n0xb91bca4c6a607448a093803b3b2a9a4ed3e9f71e                       None   \n0xaddc3e67a500f7037cd622b11df291a6351bfb64                       None   \n0x688c3e4658b5367da06fd629e41879beab538e37                       None   \n0xf7a232044c586d658f826e1932c37cad770b0687                       None   \n0x77655099f72484fa7d8cd701112c129b35b6ca6a                       None   \n0xc90b47731f9cd4db0df36c1e59fdca1fe9806475                       None   \n0x2216d47494e516d8206b70fca8585820ed3c4946                       None   \n\n                                           smartContract.currency.symbol  \\\nsmartContract.address.address                                              \n0x0fc584529a2aefa997697fafacba5831fac0c22d                             -   \n0xc02aaa39b223fe8d0a0e5c4f27ead9083c756cc2                          WETH   \n0xbe86f647b167567525ccaafcd6f881f1ee558216                             -   \n0x612447e8d0bdb922059ce048bb5a7cef9e017812                             -   \n0xd9e1ce17f2641f24ae83637ab66a2cca9c378b9f                             -   \n0xd9f21104a0ab4bb2bc70774d4472b3c885fd022c                           SLP   \n0xc02aaa39b223fe8d0a0e5c4f27ead9083c756cc2                          WETH   \n0xe7f4c89032a2488d327323548ab0459676269331                         WAIFU   \n0x73d2ff81fcea9832fc9ee90521abde1150f6b52a                                 \n0xfd8a76dc204e461db5da4f38687adc9cc5ae4a86                             -   \n0x0ef372b6a2f8bb030760261b858b6c50e92d1680                             -   \n0x3e135c3e981fae3383a5ae0d323860a34cfab893                             -   \n0x72012ada1d0a9e9cba22b3f13f3bc52b57ed6b66                             -   \n0xb91bca4c6a607448a093803b3b2a9a4ed3e9f71e                        xWAIFU   \n0xaddc3e67a500f7037cd622b11df291a6351bfb64                             -   \n0x688c3e4658b5367da06fd629e41879beab538e37                             -   \n0xf7a232044c586d658f826e1932c37cad770b0687                             -   \n0x77655099f72484fa7d8cd701112c129b35b6ca6a                    xWAIFUWETH   \n0xc90b47731f9cd4db0df36c1e59fdca1fe9806475                             -   \n0x2216d47494e516d8206b70fca8585820ed3c4946                            WF   \n\n                                            caller.annotation  \nsmartContract.address.address                                  \n0x0fc584529a2aefa997697fafacba5831fac0c22d               None  \n0xc02aaa39b223fe8d0a0e5c4f27ead9083c756cc2               None  \n0xbe86f647b167567525ccaafcd6f881f1ee558216               None  \n0x612447e8d0bdb922059ce048bb5a7cef9e017812               None  \n0xd9e1ce17f2641f24ae83637ab66a2cca9c378b9f               None  \n0xd9f21104a0ab4bb2bc70774d4472b3c885fd022c  Router, SushiSwap  \n0xc02aaa39b223fe8d0a0e5c4f27ead9083c756cc2  Router, SushiSwap  \n0xe7f4c89032a2488d327323548ab0459676269331               None  \n0x73d2ff81fcea9832fc9ee90521abde1150f6b52a               None  \n0xfd8a76dc204e461db5da4f38687adc9cc5ae4a86               None  \n0x0ef372b6a2f8bb030760261b858b6c50e92d1680               None  \n0x3e135c3e981fae3383a5ae0d323860a34cfab893               None  \n0x72012ada1d0a9e9cba22b3f13f3bc52b57ed6b66               None  \n0xb91bca4c6a607448a093803b3b2a9a4ed3e9f71e               None  \n0xaddc3e67a500f7037cd622b11df291a6351bfb64               None  \n0x688c3e4658b5367da06fd629e41879beab538e37               None  \n0xf7a232044c586d658f826e1932c37cad770b0687               None  \n0x77655099f72484fa7d8cd701112c129b35b6ca6a               None  \n0xc90b47731f9cd4db0df36c1e59fdca1fe9806475               None  \n0x2216d47494e516d8206b70fca8585820ed3c4946               None  ",
      "text/html": "<div>\n<style scoped>\n    .dataframe tbody tr th:only-of-type {\n        vertical-align: middle;\n    }\n\n    .dataframe tbody tr th {\n        vertical-align: top;\n    }\n\n    .dataframe thead th {\n        text-align: right;\n    }\n</style>\n<table border=\"1\" class=\"dataframe\">\n  <thead>\n    <tr style=\"text-align: right;\">\n      <th></th>\n      <th>smartContract.address.annotation</th>\n      <th>smartContract.protocolType</th>\n      <th>smartContract.currency.symbol</th>\n      <th>caller.annotation</th>\n    </tr>\n    <tr>\n      <th>smartContract.address.address</th>\n      <th></th>\n      <th></th>\n      <th></th>\n      <th></th>\n    </tr>\n  </thead>\n  <tbody>\n    <tr>\n      <th>0x0fc584529a2aefa997697fafacba5831fac0c22d</th>\n      <td>None</td>\n      <td>None</td>\n      <td>-</td>\n      <td>None</td>\n    </tr>\n    <tr>\n      <th>0xc02aaa39b223fe8d0a0e5c4f27ead9083c756cc2</th>\n      <td>https://weth.io/, 0x Ecosystem, WrappedEther, ...</td>\n      <td>Deposable</td>\n      <td>WETH</td>\n      <td>None</td>\n    </tr>\n    <tr>\n      <th>0xbe86f647b167567525ccaafcd6f881f1ee558216</th>\n      <td>None</td>\n      <td>None</td>\n      <td>-</td>\n      <td>None</td>\n    </tr>\n    <tr>\n      <th>0x612447e8d0bdb922059ce048bb5a7cef9e017812</th>\n      <td>None</td>\n      <td>None</td>\n      <td>-</td>\n      <td>None</td>\n    </tr>\n    <tr>\n      <th>0xd9e1ce17f2641f24ae83637ab66a2cca9c378b9f</th>\n      <td>Router, SushiSwap</td>\n      <td>None</td>\n      <td>-</td>\n      <td>None</td>\n    </tr>\n    <tr>\n      <th>0xd9f21104a0ab4bb2bc70774d4472b3c885fd022c</th>\n      <td>None</td>\n      <td>Uniswap v2</td>\n      <td>SLP</td>\n      <td>Router, SushiSwap</td>\n    </tr>\n    <tr>\n      <th>0xc02aaa39b223fe8d0a0e5c4f27ead9083c756cc2</th>\n      <td>https://weth.io/, 0x Ecosystem, WrappedEther, ...</td>\n      <td>Deposable</td>\n      <td>WETH</td>\n      <td>Router, SushiSwap</td>\n    </tr>\n    <tr>\n      <th>0xe7f4c89032a2488d327323548ab0459676269331</th>\n      <td>None</td>\n      <td>None</td>\n      <td>WAIFU</td>\n      <td>None</td>\n    </tr>\n    <tr>\n      <th>0x73d2ff81fcea9832fc9ee90521abde1150f6b52a</th>\n      <td>None</td>\n      <td>None</td>\n      <td></td>\n      <td>None</td>\n    </tr>\n    <tr>\n      <th>0xfd8a76dc204e461db5da4f38687adc9cc5ae4a86</th>\n      <td>None</td>\n      <td>None</td>\n      <td>-</td>\n      <td>None</td>\n    </tr>\n    <tr>\n      <th>0x0ef372b6a2f8bb030760261b858b6c50e92d1680</th>\n      <td>None</td>\n      <td>None</td>\n      <td>-</td>\n      <td>None</td>\n    </tr>\n    <tr>\n      <th>0x3e135c3e981fae3383a5ae0d323860a34cfab893</th>\n      <td>None</td>\n      <td>None</td>\n      <td>-</td>\n      <td>None</td>\n    </tr>\n    <tr>\n      <th>0x72012ada1d0a9e9cba22b3f13f3bc52b57ed6b66</th>\n      <td>None</td>\n      <td>None</td>\n      <td>-</td>\n      <td>None</td>\n    </tr>\n    <tr>\n      <th>0xb91bca4c6a607448a093803b3b2a9a4ed3e9f71e</th>\n      <td>None</td>\n      <td>None</td>\n      <td>xWAIFU</td>\n      <td>None</td>\n    </tr>\n    <tr>\n      <th>0xaddc3e67a500f7037cd622b11df291a6351bfb64</th>\n      <td>None</td>\n      <td>None</td>\n      <td>-</td>\n      <td>None</td>\n    </tr>\n    <tr>\n      <th>0x688c3e4658b5367da06fd629e41879beab538e37</th>\n      <td>None</td>\n      <td>None</td>\n      <td>-</td>\n      <td>None</td>\n    </tr>\n    <tr>\n      <th>0xf7a232044c586d658f826e1932c37cad770b0687</th>\n      <td>None</td>\n      <td>None</td>\n      <td>-</td>\n      <td>None</td>\n    </tr>\n    <tr>\n      <th>0x77655099f72484fa7d8cd701112c129b35b6ca6a</th>\n      <td>None</td>\n      <td>None</td>\n      <td>xWAIFUWETH</td>\n      <td>None</td>\n    </tr>\n    <tr>\n      <th>0xc90b47731f9cd4db0df36c1e59fdca1fe9806475</th>\n      <td>None</td>\n      <td>None</td>\n      <td>-</td>\n      <td>None</td>\n    </tr>\n    <tr>\n      <th>0x2216d47494e516d8206b70fca8585820ed3c4946</th>\n      <td>None</td>\n      <td>None</td>\n      <td>WF</td>\n      <td>None</td>\n    </tr>\n  </tbody>\n</table>\n</div>"
     },
     "execution_count": 19,
     "metadata": {},
     "output_type": "execute_result"
    }
   ],
   "source": [
    "df"
   ],
   "metadata": {
    "collapsed": false,
    "pycharm": {
     "name": "#%%\n"
    }
   }
  },
  {
   "cell_type": "code",
   "execution_count": 28,
   "outputs": [],
   "source": [
    "temp = pd.DataFrame(X.todense(), columns=cv.get_feature_names())"
   ],
   "metadata": {
    "collapsed": false,
    "pycharm": {
     "name": "#%%\n"
    }
   }
  },
  {
   "cell_type": "code",
   "execution_count": 29,
   "outputs": [
    {
     "data": {
      "text/plain": "    0x  contract  ecosystem  ether  https  io  none  router  stablecoin  \\\n0    0         0          0      0      0   0     1       0           0   \n1    1         1          1      2      1   1     0       0           1   \n2    0         0          0      0      0   0     1       0           0   \n3    0         0          0      0      0   0     1       0           0   \n4    0         0          0      0      0   0     0       1           0   \n5    0         0          0      0      0   0     1       0           0   \n6    1         1          1      2      1   1     0       0           1   \n7    0         0          0      0      0   0     1       0           0   \n8    0         0          0      0      0   0     1       0           0   \n9    0         0          0      0      0   0     1       0           0   \n10   0         0          0      0      0   0     1       0           0   \n11   0         0          0      0      0   0     1       0           0   \n12   0         0          0      0      0   0     1       0           0   \n13   0         0          0      0      0   0     1       0           0   \n14   0         0          0      0      0   0     1       0           0   \n15   0         0          0      0      0   0     1       0           0   \n16   0         0          0      0      0   0     1       0           0   \n17   0         0          0      0      0   0     1       0           0   \n18   0         0          0      0      0   0     1       0           0   \n19   0         0          0      0      0   0     1       0           0   \n\n    sushiswap  token  weth  weth9  wrapped  wrappedether  \n0           0      0     0      0        0             0  \n1           0      1     2      1        2             1  \n2           0      0     0      0        0             0  \n3           0      0     0      0        0             0  \n4           1      0     0      0        0             0  \n5           0      0     0      0        0             0  \n6           0      1     2      1        2             1  \n7           0      0     0      0        0             0  \n8           0      0     0      0        0             0  \n9           0      0     0      0        0             0  \n10          0      0     0      0        0             0  \n11          0      0     0      0        0             0  \n12          0      0     0      0        0             0  \n13          0      0     0      0        0             0  \n14          0      0     0      0        0             0  \n15          0      0     0      0        0             0  \n16          0      0     0      0        0             0  \n17          0      0     0      0        0             0  \n18          0      0     0      0        0             0  \n19          0      0     0      0        0             0  ",
      "text/html": "<div>\n<style scoped>\n    .dataframe tbody tr th:only-of-type {\n        vertical-align: middle;\n    }\n\n    .dataframe tbody tr th {\n        vertical-align: top;\n    }\n\n    .dataframe thead th {\n        text-align: right;\n    }\n</style>\n<table border=\"1\" class=\"dataframe\">\n  <thead>\n    <tr style=\"text-align: right;\">\n      <th></th>\n      <th>0x</th>\n      <th>contract</th>\n      <th>ecosystem</th>\n      <th>ether</th>\n      <th>https</th>\n      <th>io</th>\n      <th>none</th>\n      <th>router</th>\n      <th>stablecoin</th>\n      <th>sushiswap</th>\n      <th>token</th>\n      <th>weth</th>\n      <th>weth9</th>\n      <th>wrapped</th>\n      <th>wrappedether</th>\n    </tr>\n  </thead>\n  <tbody>\n    <tr>\n      <th>0</th>\n      <td>0</td>\n      <td>0</td>\n      <td>0</td>\n      <td>0</td>\n      <td>0</td>\n      <td>0</td>\n      <td>1</td>\n      <td>0</td>\n      <td>0</td>\n      <td>0</td>\n      <td>0</td>\n      <td>0</td>\n      <td>0</td>\n      <td>0</td>\n      <td>0</td>\n    </tr>\n    <tr>\n      <th>1</th>\n      <td>1</td>\n      <td>1</td>\n      <td>1</td>\n      <td>2</td>\n      <td>1</td>\n      <td>1</td>\n      <td>0</td>\n      <td>0</td>\n      <td>1</td>\n      <td>0</td>\n      <td>1</td>\n      <td>2</td>\n      <td>1</td>\n      <td>2</td>\n      <td>1</td>\n    </tr>\n    <tr>\n      <th>2</th>\n      <td>0</td>\n      <td>0</td>\n      <td>0</td>\n      <td>0</td>\n      <td>0</td>\n      <td>0</td>\n      <td>1</td>\n      <td>0</td>\n      <td>0</td>\n      <td>0</td>\n      <td>0</td>\n      <td>0</td>\n      <td>0</td>\n      <td>0</td>\n      <td>0</td>\n    </tr>\n    <tr>\n      <th>3</th>\n      <td>0</td>\n      <td>0</td>\n      <td>0</td>\n      <td>0</td>\n      <td>0</td>\n      <td>0</td>\n      <td>1</td>\n      <td>0</td>\n      <td>0</td>\n      <td>0</td>\n      <td>0</td>\n      <td>0</td>\n      <td>0</td>\n      <td>0</td>\n      <td>0</td>\n    </tr>\n    <tr>\n      <th>4</th>\n      <td>0</td>\n      <td>0</td>\n      <td>0</td>\n      <td>0</td>\n      <td>0</td>\n      <td>0</td>\n      <td>0</td>\n      <td>1</td>\n      <td>0</td>\n      <td>1</td>\n      <td>0</td>\n      <td>0</td>\n      <td>0</td>\n      <td>0</td>\n      <td>0</td>\n    </tr>\n    <tr>\n      <th>5</th>\n      <td>0</td>\n      <td>0</td>\n      <td>0</td>\n      <td>0</td>\n      <td>0</td>\n      <td>0</td>\n      <td>1</td>\n      <td>0</td>\n      <td>0</td>\n      <td>0</td>\n      <td>0</td>\n      <td>0</td>\n      <td>0</td>\n      <td>0</td>\n      <td>0</td>\n    </tr>\n    <tr>\n      <th>6</th>\n      <td>1</td>\n      <td>1</td>\n      <td>1</td>\n      <td>2</td>\n      <td>1</td>\n      <td>1</td>\n      <td>0</td>\n      <td>0</td>\n      <td>1</td>\n      <td>0</td>\n      <td>1</td>\n      <td>2</td>\n      <td>1</td>\n      <td>2</td>\n      <td>1</td>\n    </tr>\n    <tr>\n      <th>7</th>\n      <td>0</td>\n      <td>0</td>\n      <td>0</td>\n      <td>0</td>\n      <td>0</td>\n      <td>0</td>\n      <td>1</td>\n      <td>0</td>\n      <td>0</td>\n      <td>0</td>\n      <td>0</td>\n      <td>0</td>\n      <td>0</td>\n      <td>0</td>\n      <td>0</td>\n    </tr>\n    <tr>\n      <th>8</th>\n      <td>0</td>\n      <td>0</td>\n      <td>0</td>\n      <td>0</td>\n      <td>0</td>\n      <td>0</td>\n      <td>1</td>\n      <td>0</td>\n      <td>0</td>\n      <td>0</td>\n      <td>0</td>\n      <td>0</td>\n      <td>0</td>\n      <td>0</td>\n      <td>0</td>\n    </tr>\n    <tr>\n      <th>9</th>\n      <td>0</td>\n      <td>0</td>\n      <td>0</td>\n      <td>0</td>\n      <td>0</td>\n      <td>0</td>\n      <td>1</td>\n      <td>0</td>\n      <td>0</td>\n      <td>0</td>\n      <td>0</td>\n      <td>0</td>\n      <td>0</td>\n      <td>0</td>\n      <td>0</td>\n    </tr>\n    <tr>\n      <th>10</th>\n      <td>0</td>\n      <td>0</td>\n      <td>0</td>\n      <td>0</td>\n      <td>0</td>\n      <td>0</td>\n      <td>1</td>\n      <td>0</td>\n      <td>0</td>\n      <td>0</td>\n      <td>0</td>\n      <td>0</td>\n      <td>0</td>\n      <td>0</td>\n      <td>0</td>\n    </tr>\n    <tr>\n      <th>11</th>\n      <td>0</td>\n      <td>0</td>\n      <td>0</td>\n      <td>0</td>\n      <td>0</td>\n      <td>0</td>\n      <td>1</td>\n      <td>0</td>\n      <td>0</td>\n      <td>0</td>\n      <td>0</td>\n      <td>0</td>\n      <td>0</td>\n      <td>0</td>\n      <td>0</td>\n    </tr>\n    <tr>\n      <th>12</th>\n      <td>0</td>\n      <td>0</td>\n      <td>0</td>\n      <td>0</td>\n      <td>0</td>\n      <td>0</td>\n      <td>1</td>\n      <td>0</td>\n      <td>0</td>\n      <td>0</td>\n      <td>0</td>\n      <td>0</td>\n      <td>0</td>\n      <td>0</td>\n      <td>0</td>\n    </tr>\n    <tr>\n      <th>13</th>\n      <td>0</td>\n      <td>0</td>\n      <td>0</td>\n      <td>0</td>\n      <td>0</td>\n      <td>0</td>\n      <td>1</td>\n      <td>0</td>\n      <td>0</td>\n      <td>0</td>\n      <td>0</td>\n      <td>0</td>\n      <td>0</td>\n      <td>0</td>\n      <td>0</td>\n    </tr>\n    <tr>\n      <th>14</th>\n      <td>0</td>\n      <td>0</td>\n      <td>0</td>\n      <td>0</td>\n      <td>0</td>\n      <td>0</td>\n      <td>1</td>\n      <td>0</td>\n      <td>0</td>\n      <td>0</td>\n      <td>0</td>\n      <td>0</td>\n      <td>0</td>\n      <td>0</td>\n      <td>0</td>\n    </tr>\n    <tr>\n      <th>15</th>\n      <td>0</td>\n      <td>0</td>\n      <td>0</td>\n      <td>0</td>\n      <td>0</td>\n      <td>0</td>\n      <td>1</td>\n      <td>0</td>\n      <td>0</td>\n      <td>0</td>\n      <td>0</td>\n      <td>0</td>\n      <td>0</td>\n      <td>0</td>\n      <td>0</td>\n    </tr>\n    <tr>\n      <th>16</th>\n      <td>0</td>\n      <td>0</td>\n      <td>0</td>\n      <td>0</td>\n      <td>0</td>\n      <td>0</td>\n      <td>1</td>\n      <td>0</td>\n      <td>0</td>\n      <td>0</td>\n      <td>0</td>\n      <td>0</td>\n      <td>0</td>\n      <td>0</td>\n      <td>0</td>\n    </tr>\n    <tr>\n      <th>17</th>\n      <td>0</td>\n      <td>0</td>\n      <td>0</td>\n      <td>0</td>\n      <td>0</td>\n      <td>0</td>\n      <td>1</td>\n      <td>0</td>\n      <td>0</td>\n      <td>0</td>\n      <td>0</td>\n      <td>0</td>\n      <td>0</td>\n      <td>0</td>\n      <td>0</td>\n    </tr>\n    <tr>\n      <th>18</th>\n      <td>0</td>\n      <td>0</td>\n      <td>0</td>\n      <td>0</td>\n      <td>0</td>\n      <td>0</td>\n      <td>1</td>\n      <td>0</td>\n      <td>0</td>\n      <td>0</td>\n      <td>0</td>\n      <td>0</td>\n      <td>0</td>\n      <td>0</td>\n      <td>0</td>\n    </tr>\n    <tr>\n      <th>19</th>\n      <td>0</td>\n      <td>0</td>\n      <td>0</td>\n      <td>0</td>\n      <td>0</td>\n      <td>0</td>\n      <td>1</td>\n      <td>0</td>\n      <td>0</td>\n      <td>0</td>\n      <td>0</td>\n      <td>0</td>\n      <td>0</td>\n      <td>0</td>\n      <td>0</td>\n    </tr>\n  </tbody>\n</table>\n</div>"
     },
     "execution_count": 29,
     "metadata": {},
     "output_type": "execute_result"
    }
   ],
   "source": [
    "temp"
   ],
   "metadata": {
    "collapsed": false,
    "pycharm": {
     "name": "#%%\n"
    }
   }
  },
  {
   "cell_type": "code",
   "execution_count": 17,
   "outputs": [
    {
     "data": {
      "text/plain": "    0x  contract  ecosystem  ether  https  io  none  router  stablecoin  \\\n0    0         0          0      0      0   0     1       0           0   \n1    1         1          1      2      1   1     0       0           1   \n2    0         0          0      0      0   0     1       0           0   \n3    0         0          0      0      0   0     1       0           0   \n4    0         0          0      0      0   0     0       1           0   \n5    0         0          0      0      0   0     1       0           0   \n6    1         1          1      2      1   1     0       0           1   \n7    0         0          0      0      0   0     1       0           0   \n8    0         0          0      0      0   0     1       0           0   \n9    0         0          0      0      0   0     1       0           0   \n10   0         0          0      0      0   0     1       0           0   \n11   0         0          0      0      0   0     1       0           0   \n12   0         0          0      0      0   0     1       0           0   \n13   0         0          0      0      0   0     1       0           0   \n14   0         0          0      0      0   0     1       0           0   \n15   0         0          0      0      0   0     1       0           0   \n16   0         0          0      0      0   0     1       0           0   \n17   0         0          0      0      0   0     1       0           0   \n18   0         0          0      0      0   0     1       0           0   \n19   0         0          0      0      0   0     1       0           0   \n\n    sushiswap  token  weth  weth9  wrapped  wrappedether  \n0           0      0     0      0        0             0  \n1           0      1     2      1        2             1  \n2           0      0     0      0        0             0  \n3           0      0     0      0        0             0  \n4           1      0     0      0        0             0  \n5           0      0     0      0        0             0  \n6           0      1     2      1        2             1  \n7           0      0     0      0        0             0  \n8           0      0     0      0        0             0  \n9           0      0     0      0        0             0  \n10          0      0     0      0        0             0  \n11          0      0     0      0        0             0  \n12          0      0     0      0        0             0  \n13          0      0     0      0        0             0  \n14          0      0     0      0        0             0  \n15          0      0     0      0        0             0  \n16          0      0     0      0        0             0  \n17          0      0     0      0        0             0  \n18          0      0     0      0        0             0  \n19          0      0     0      0        0             0  ",
      "text/html": "<div>\n<style scoped>\n    .dataframe tbody tr th:only-of-type {\n        vertical-align: middle;\n    }\n\n    .dataframe tbody tr th {\n        vertical-align: top;\n    }\n\n    .dataframe thead th {\n        text-align: right;\n    }\n</style>\n<table border=\"1\" class=\"dataframe\">\n  <thead>\n    <tr style=\"text-align: right;\">\n      <th></th>\n      <th>0x</th>\n      <th>contract</th>\n      <th>ecosystem</th>\n      <th>ether</th>\n      <th>https</th>\n      <th>io</th>\n      <th>none</th>\n      <th>router</th>\n      <th>stablecoin</th>\n      <th>sushiswap</th>\n      <th>token</th>\n      <th>weth</th>\n      <th>weth9</th>\n      <th>wrapped</th>\n      <th>wrappedether</th>\n    </tr>\n  </thead>\n  <tbody>\n    <tr>\n      <th>0</th>\n      <td>0</td>\n      <td>0</td>\n      <td>0</td>\n      <td>0</td>\n      <td>0</td>\n      <td>0</td>\n      <td>1</td>\n      <td>0</td>\n      <td>0</td>\n      <td>0</td>\n      <td>0</td>\n      <td>0</td>\n      <td>0</td>\n      <td>0</td>\n      <td>0</td>\n    </tr>\n    <tr>\n      <th>1</th>\n      <td>1</td>\n      <td>1</td>\n      <td>1</td>\n      <td>2</td>\n      <td>1</td>\n      <td>1</td>\n      <td>0</td>\n      <td>0</td>\n      <td>1</td>\n      <td>0</td>\n      <td>1</td>\n      <td>2</td>\n      <td>1</td>\n      <td>2</td>\n      <td>1</td>\n    </tr>\n    <tr>\n      <th>2</th>\n      <td>0</td>\n      <td>0</td>\n      <td>0</td>\n      <td>0</td>\n      <td>0</td>\n      <td>0</td>\n      <td>1</td>\n      <td>0</td>\n      <td>0</td>\n      <td>0</td>\n      <td>0</td>\n      <td>0</td>\n      <td>0</td>\n      <td>0</td>\n      <td>0</td>\n    </tr>\n    <tr>\n      <th>3</th>\n      <td>0</td>\n      <td>0</td>\n      <td>0</td>\n      <td>0</td>\n      <td>0</td>\n      <td>0</td>\n      <td>1</td>\n      <td>0</td>\n      <td>0</td>\n      <td>0</td>\n      <td>0</td>\n      <td>0</td>\n      <td>0</td>\n      <td>0</td>\n      <td>0</td>\n    </tr>\n    <tr>\n      <th>4</th>\n      <td>0</td>\n      <td>0</td>\n      <td>0</td>\n      <td>0</td>\n      <td>0</td>\n      <td>0</td>\n      <td>0</td>\n      <td>1</td>\n      <td>0</td>\n      <td>1</td>\n      <td>0</td>\n      <td>0</td>\n      <td>0</td>\n      <td>0</td>\n      <td>0</td>\n    </tr>\n    <tr>\n      <th>5</th>\n      <td>0</td>\n      <td>0</td>\n      <td>0</td>\n      <td>0</td>\n      <td>0</td>\n      <td>0</td>\n      <td>1</td>\n      <td>0</td>\n      <td>0</td>\n      <td>0</td>\n      <td>0</td>\n      <td>0</td>\n      <td>0</td>\n      <td>0</td>\n      <td>0</td>\n    </tr>\n    <tr>\n      <th>6</th>\n      <td>1</td>\n      <td>1</td>\n      <td>1</td>\n      <td>2</td>\n      <td>1</td>\n      <td>1</td>\n      <td>0</td>\n      <td>0</td>\n      <td>1</td>\n      <td>0</td>\n      <td>1</td>\n      <td>2</td>\n      <td>1</td>\n      <td>2</td>\n      <td>1</td>\n    </tr>\n    <tr>\n      <th>7</th>\n      <td>0</td>\n      <td>0</td>\n      <td>0</td>\n      <td>0</td>\n      <td>0</td>\n      <td>0</td>\n      <td>1</td>\n      <td>0</td>\n      <td>0</td>\n      <td>0</td>\n      <td>0</td>\n      <td>0</td>\n      <td>0</td>\n      <td>0</td>\n      <td>0</td>\n    </tr>\n    <tr>\n      <th>8</th>\n      <td>0</td>\n      <td>0</td>\n      <td>0</td>\n      <td>0</td>\n      <td>0</td>\n      <td>0</td>\n      <td>1</td>\n      <td>0</td>\n      <td>0</td>\n      <td>0</td>\n      <td>0</td>\n      <td>0</td>\n      <td>0</td>\n      <td>0</td>\n      <td>0</td>\n    </tr>\n    <tr>\n      <th>9</th>\n      <td>0</td>\n      <td>0</td>\n      <td>0</td>\n      <td>0</td>\n      <td>0</td>\n      <td>0</td>\n      <td>1</td>\n      <td>0</td>\n      <td>0</td>\n      <td>0</td>\n      <td>0</td>\n      <td>0</td>\n      <td>0</td>\n      <td>0</td>\n      <td>0</td>\n    </tr>\n    <tr>\n      <th>10</th>\n      <td>0</td>\n      <td>0</td>\n      <td>0</td>\n      <td>0</td>\n      <td>0</td>\n      <td>0</td>\n      <td>1</td>\n      <td>0</td>\n      <td>0</td>\n      <td>0</td>\n      <td>0</td>\n      <td>0</td>\n      <td>0</td>\n      <td>0</td>\n      <td>0</td>\n    </tr>\n    <tr>\n      <th>11</th>\n      <td>0</td>\n      <td>0</td>\n      <td>0</td>\n      <td>0</td>\n      <td>0</td>\n      <td>0</td>\n      <td>1</td>\n      <td>0</td>\n      <td>0</td>\n      <td>0</td>\n      <td>0</td>\n      <td>0</td>\n      <td>0</td>\n      <td>0</td>\n      <td>0</td>\n    </tr>\n    <tr>\n      <th>12</th>\n      <td>0</td>\n      <td>0</td>\n      <td>0</td>\n      <td>0</td>\n      <td>0</td>\n      <td>0</td>\n      <td>1</td>\n      <td>0</td>\n      <td>0</td>\n      <td>0</td>\n      <td>0</td>\n      <td>0</td>\n      <td>0</td>\n      <td>0</td>\n      <td>0</td>\n    </tr>\n    <tr>\n      <th>13</th>\n      <td>0</td>\n      <td>0</td>\n      <td>0</td>\n      <td>0</td>\n      <td>0</td>\n      <td>0</td>\n      <td>1</td>\n      <td>0</td>\n      <td>0</td>\n      <td>0</td>\n      <td>0</td>\n      <td>0</td>\n      <td>0</td>\n      <td>0</td>\n      <td>0</td>\n    </tr>\n    <tr>\n      <th>14</th>\n      <td>0</td>\n      <td>0</td>\n      <td>0</td>\n      <td>0</td>\n      <td>0</td>\n      <td>0</td>\n      <td>1</td>\n      <td>0</td>\n      <td>0</td>\n      <td>0</td>\n      <td>0</td>\n      <td>0</td>\n      <td>0</td>\n      <td>0</td>\n      <td>0</td>\n    </tr>\n    <tr>\n      <th>15</th>\n      <td>0</td>\n      <td>0</td>\n      <td>0</td>\n      <td>0</td>\n      <td>0</td>\n      <td>0</td>\n      <td>1</td>\n      <td>0</td>\n      <td>0</td>\n      <td>0</td>\n      <td>0</td>\n      <td>0</td>\n      <td>0</td>\n      <td>0</td>\n      <td>0</td>\n    </tr>\n    <tr>\n      <th>16</th>\n      <td>0</td>\n      <td>0</td>\n      <td>0</td>\n      <td>0</td>\n      <td>0</td>\n      <td>0</td>\n      <td>1</td>\n      <td>0</td>\n      <td>0</td>\n      <td>0</td>\n      <td>0</td>\n      <td>0</td>\n      <td>0</td>\n      <td>0</td>\n      <td>0</td>\n    </tr>\n    <tr>\n      <th>17</th>\n      <td>0</td>\n      <td>0</td>\n      <td>0</td>\n      <td>0</td>\n      <td>0</td>\n      <td>0</td>\n      <td>1</td>\n      <td>0</td>\n      <td>0</td>\n      <td>0</td>\n      <td>0</td>\n      <td>0</td>\n      <td>0</td>\n      <td>0</td>\n      <td>0</td>\n    </tr>\n    <tr>\n      <th>18</th>\n      <td>0</td>\n      <td>0</td>\n      <td>0</td>\n      <td>0</td>\n      <td>0</td>\n      <td>0</td>\n      <td>1</td>\n      <td>0</td>\n      <td>0</td>\n      <td>0</td>\n      <td>0</td>\n      <td>0</td>\n      <td>0</td>\n      <td>0</td>\n      <td>0</td>\n    </tr>\n    <tr>\n      <th>19</th>\n      <td>0</td>\n      <td>0</td>\n      <td>0</td>\n      <td>0</td>\n      <td>0</td>\n      <td>0</td>\n      <td>1</td>\n      <td>0</td>\n      <td>0</td>\n      <td>0</td>\n      <td>0</td>\n      <td>0</td>\n      <td>0</td>\n      <td>0</td>\n      <td>0</td>\n    </tr>\n  </tbody>\n</table>\n</div>"
     },
     "execution_count": 17,
     "metadata": {},
     "output_type": "execute_result"
    }
   ],
   "source": [
    "temp"
   ],
   "metadata": {
    "collapsed": false,
    "pycharm": {
     "name": "#%%\n"
    }
   }
  },
  {
   "cell_type": "code",
   "execution_count": 52,
   "outputs": [],
   "source": [
    "df = df.sort_index()"
   ],
   "metadata": {
    "collapsed": false,
    "pycharm": {
     "name": "#%%\n"
    }
   }
  },
  {
   "cell_type": "code",
   "execution_count": 20,
   "outputs": [],
   "source": [
    "from nltk import cluster\n",
    "from nltk.metrics.distance import edit_distance"
   ],
   "metadata": {
    "collapsed": false,
    "pycharm": {
     "name": "#%%\n"
    }
   }
  },
  {
   "cell_type": "code",
   "execution_count": 21,
   "outputs": [
    {
     "ename": "TypeError",
     "evalue": "unsupported operand type(s) for /: 'str' and 'int'",
     "output_type": "error",
     "traceback": [
      "\u001B[0;31m---------------------------------------------------------------------------\u001B[0m",
      "\u001B[0;31mTypeError\u001B[0m                                 Traceback (most recent call last)",
      "\u001B[0;32m/tmp/ipykernel_50580/889719008.py\u001B[0m in \u001B[0;36m<module>\u001B[0;34m\u001B[0m\n\u001B[1;32m      1\u001B[0m \u001B[0mmodel\u001B[0m \u001B[0;34m=\u001B[0m \u001B[0mcluster\u001B[0m\u001B[0;34m.\u001B[0m\u001B[0mKMeansClusterer\u001B[0m\u001B[0;34m(\u001B[0m\u001B[0;36m2\u001B[0m\u001B[0;34m,\u001B[0m \u001B[0medit_distance\u001B[0m\u001B[0;34m)\u001B[0m\u001B[0;34m\u001B[0m\u001B[0;34m\u001B[0m\u001B[0m\n\u001B[0;32m----> 2\u001B[0;31m \u001B[0mmodel\u001B[0m\u001B[0;34m.\u001B[0m\u001B[0mcluster\u001B[0m\u001B[0;34m(\u001B[0m\u001B[0mdf\u001B[0m\u001B[0;34m)\u001B[0m\u001B[0;34m\u001B[0m\u001B[0;34m\u001B[0m\u001B[0m\n\u001B[0m",
      "\u001B[0;32m~/.local/lib/python3.8/site-packages/nltk/cluster/util.py\u001B[0m in \u001B[0;36mcluster\u001B[0;34m(self, vectors, assign_clusters, trace)\u001B[0m\n\u001B[1;32m     57\u001B[0m \u001B[0;34m\u001B[0m\u001B[0m\n\u001B[1;32m     58\u001B[0m         \u001B[0;31m# call abstract method to cluster the vectors\u001B[0m\u001B[0;34m\u001B[0m\u001B[0;34m\u001B[0m\u001B[0;34m\u001B[0m\u001B[0m\n\u001B[0;32m---> 59\u001B[0;31m         \u001B[0mself\u001B[0m\u001B[0;34m.\u001B[0m\u001B[0mcluster_vectorspace\u001B[0m\u001B[0;34m(\u001B[0m\u001B[0mvectors\u001B[0m\u001B[0;34m,\u001B[0m \u001B[0mtrace\u001B[0m\u001B[0;34m)\u001B[0m\u001B[0;34m\u001B[0m\u001B[0;34m\u001B[0m\u001B[0m\n\u001B[0m\u001B[1;32m     60\u001B[0m \u001B[0;34m\u001B[0m\u001B[0m\n\u001B[1;32m     61\u001B[0m         \u001B[0;31m# assign the vectors to clusters\u001B[0m\u001B[0;34m\u001B[0m\u001B[0;34m\u001B[0m\u001B[0;34m\u001B[0m\u001B[0m\n",
      "\u001B[0;32m~/.local/lib/python3.8/site-packages/nltk/cluster/kmeans.py\u001B[0m in \u001B[0;36mcluster_vectorspace\u001B[0;34m(self, vectors, trace)\u001B[0m\n\u001B[1;32m     89\u001B[0m             \u001B[0;32mif\u001B[0m \u001B[0;32mnot\u001B[0m \u001B[0mself\u001B[0m\u001B[0;34m.\u001B[0m\u001B[0m_means\u001B[0m \u001B[0;32mor\u001B[0m \u001B[0mtrial\u001B[0m \u001B[0;34m>\u001B[0m \u001B[0;36m1\u001B[0m\u001B[0;34m:\u001B[0m\u001B[0;34m\u001B[0m\u001B[0;34m\u001B[0m\u001B[0m\n\u001B[1;32m     90\u001B[0m                 \u001B[0mself\u001B[0m\u001B[0;34m.\u001B[0m\u001B[0m_means\u001B[0m \u001B[0;34m=\u001B[0m \u001B[0mself\u001B[0m\u001B[0;34m.\u001B[0m\u001B[0m_rng\u001B[0m\u001B[0;34m.\u001B[0m\u001B[0msample\u001B[0m\u001B[0;34m(\u001B[0m\u001B[0mlist\u001B[0m\u001B[0;34m(\u001B[0m\u001B[0mvectors\u001B[0m\u001B[0;34m)\u001B[0m\u001B[0;34m,\u001B[0m \u001B[0mself\u001B[0m\u001B[0;34m.\u001B[0m\u001B[0m_num_means\u001B[0m\u001B[0;34m)\u001B[0m\u001B[0;34m\u001B[0m\u001B[0;34m\u001B[0m\u001B[0m\n\u001B[0;32m---> 91\u001B[0;31m             \u001B[0mself\u001B[0m\u001B[0;34m.\u001B[0m\u001B[0m_cluster_vectorspace\u001B[0m\u001B[0;34m(\u001B[0m\u001B[0mvectors\u001B[0m\u001B[0;34m,\u001B[0m \u001B[0mtrace\u001B[0m\u001B[0;34m)\u001B[0m\u001B[0;34m\u001B[0m\u001B[0;34m\u001B[0m\u001B[0m\n\u001B[0m\u001B[1;32m     92\u001B[0m             \u001B[0mmeanss\u001B[0m\u001B[0;34m.\u001B[0m\u001B[0mappend\u001B[0m\u001B[0;34m(\u001B[0m\u001B[0mself\u001B[0m\u001B[0;34m.\u001B[0m\u001B[0m_means\u001B[0m\u001B[0;34m)\u001B[0m\u001B[0;34m\u001B[0m\u001B[0;34m\u001B[0m\u001B[0m\n\u001B[1;32m     93\u001B[0m \u001B[0;34m\u001B[0m\u001B[0m\n",
      "\u001B[0;32m~/.local/lib/python3.8/site-packages/nltk/cluster/kmeans.py\u001B[0m in \u001B[0;36m_cluster_vectorspace\u001B[0;34m(self, vectors, trace)\u001B[0m\n\u001B[1;32m    129\u001B[0m \u001B[0;34m\u001B[0m\u001B[0m\n\u001B[1;32m    130\u001B[0m                 \u001B[0;31m# recalculate cluster means by computing the centroid of each cluster\u001B[0m\u001B[0;34m\u001B[0m\u001B[0;34m\u001B[0m\u001B[0;34m\u001B[0m\u001B[0m\n\u001B[0;32m--> 131\u001B[0;31m                 \u001B[0mnew_means\u001B[0m \u001B[0;34m=\u001B[0m \u001B[0mlist\u001B[0m\u001B[0;34m(\u001B[0m\u001B[0mmap\u001B[0m\u001B[0;34m(\u001B[0m\u001B[0mself\u001B[0m\u001B[0;34m.\u001B[0m\u001B[0m_centroid\u001B[0m\u001B[0;34m,\u001B[0m \u001B[0mclusters\u001B[0m\u001B[0;34m,\u001B[0m \u001B[0mself\u001B[0m\u001B[0;34m.\u001B[0m\u001B[0m_means\u001B[0m\u001B[0;34m)\u001B[0m\u001B[0;34m)\u001B[0m\u001B[0;34m\u001B[0m\u001B[0;34m\u001B[0m\u001B[0m\n\u001B[0m\u001B[1;32m    132\u001B[0m \u001B[0;34m\u001B[0m\u001B[0m\n\u001B[1;32m    133\u001B[0m                 \u001B[0;31m# measure the degree of change from the previous step for convergence\u001B[0m\u001B[0;34m\u001B[0m\u001B[0;34m\u001B[0m\u001B[0;34m\u001B[0m\u001B[0m\n",
      "\u001B[0;32m~/.local/lib/python3.8/site-packages/nltk/cluster/kmeans.py\u001B[0m in \u001B[0;36m_centroid\u001B[0;34m(self, cluster, mean)\u001B[0m\n\u001B[1;32m    184\u001B[0m             \u001B[0;32mfor\u001B[0m \u001B[0mvector\u001B[0m \u001B[0;32min\u001B[0m \u001B[0mcluster\u001B[0m\u001B[0;34m[\u001B[0m\u001B[0;36m1\u001B[0m\u001B[0;34m:\u001B[0m\u001B[0;34m]\u001B[0m\u001B[0;34m:\u001B[0m\u001B[0;34m\u001B[0m\u001B[0;34m\u001B[0m\u001B[0m\n\u001B[1;32m    185\u001B[0m                 \u001B[0mcentroid\u001B[0m \u001B[0;34m+=\u001B[0m \u001B[0mvector\u001B[0m\u001B[0;34m\u001B[0m\u001B[0;34m\u001B[0m\u001B[0m\n\u001B[0;32m--> 186\u001B[0;31m             \u001B[0;32mreturn\u001B[0m \u001B[0mcentroid\u001B[0m \u001B[0;34m/\u001B[0m \u001B[0mlen\u001B[0m\u001B[0;34m(\u001B[0m\u001B[0mcluster\u001B[0m\u001B[0;34m)\u001B[0m\u001B[0;34m\u001B[0m\u001B[0;34m\u001B[0m\u001B[0m\n\u001B[0m\u001B[1;32m    187\u001B[0m \u001B[0;34m\u001B[0m\u001B[0m\n\u001B[1;32m    188\u001B[0m     \u001B[0;32mdef\u001B[0m \u001B[0m__repr__\u001B[0m\u001B[0;34m(\u001B[0m\u001B[0mself\u001B[0m\u001B[0;34m)\u001B[0m\u001B[0;34m:\u001B[0m\u001B[0;34m\u001B[0m\u001B[0;34m\u001B[0m\u001B[0m\n",
      "\u001B[0;31mTypeError\u001B[0m: unsupported operand type(s) for /: 'str' and 'int'"
     ]
    }
   ],
   "source": [
    "model = cluster.KMeansClusterer(2, edit_distance)\n",
    "model.cluster(df)"
   ],
   "metadata": {
    "collapsed": false,
    "pycharm": {
     "name": "#%%\n"
    }
   }
  },
  {
   "cell_type": "code",
   "execution_count": 15,
   "outputs": [],
   "source": [
    "for i, df in enumerate(train_dfs):\n",
    "    pd\n",
    "    df.to_csv(f\"./data/raw/calls/{i+1}.csv\")"
   ],
   "metadata": {
    "collapsed": false,
    "pycharm": {
     "name": "#%%\n"
    }
   }
  },
  {
   "cell_type": "code",
   "execution_count": 16,
   "outputs": [
    {
     "data": {
      "text/plain": "                                        smartContract  \\\n0   {'address': {'address': '0x0fc584529a2aefa9976...   \n1   {'address': {'address': '0xc02aaa39b223fe8d0a0...   \n2   {'address': {'address': '0xbe86f647b167567525c...   \n3   {'address': {'address': '0x612447e8d0bdb922059...   \n4   {'address': {'address': '0xd9e1ce17f2641f24ae8...   \n..                                                ...   \n95  {'address': {'address': '0x612447e8d0bdb922059...   \n96  {'address': {'address': '0x73d2ff81fcea9832fc9...   \n97  {'address': {'address': '0x2216d47494e516d8206...   \n98  {'address': {'address': '0xc02aaa39b223fe8d0a0...   \n99  {'address': {'address': '0xc02aaa39b223fe8d0a0...   \n\n                                  smartContractMethod  \\\n0   {'name': 'buyAndRedeem', 'signatureHash': '7fc...   \n1    {'name': 'deposit', 'signatureHash': 'd0e30db0'}   \n2   {'name': 'getBaseStakeAmountForPlay', 'signatu...   \n3   {'name': 'vaultFees', 'signatureHash': '220613...   \n4   {'name': 'swapTokensForExactTokens', 'signatur...   \n..                                                ...   \n95  {'name': 'childImplementation', 'signatureHash...   \n96   {'name': 'approve', 'signatureHash': '095ea7b3'}   \n97  {'name': 'safeTransferFrom', 'signatureHash': ...   \n98  {'name': 'balanceOf', 'signatureHash': '70a082...   \n99  {'name': 'withdraw', 'signatureHash': '2e1a7d4d'}   \n\n                                               caller  success    amount  \\\n0   {'address': '0xf5ef6bcbc1b890e076ab2a68882c720...     True  0.042933   \n1   {'address': '0x0fc584529a2aefa997697fafacba583...     True  0.042933   \n2   {'address': '0x0fc584529a2aefa997697fafacba583...     True  0.042933   \n3   {'address': '0xbe86f647b167567525ccaafcd6f881f...     True  0.042933   \n4   {'address': '0x0fc584529a2aefa997697fafacba583...     True  0.042933   \n..                                                ...      ...       ...   \n95  {'address': '0xbe86f647b167567525ccaafcd6f881f...     True  0.042933   \n96  {'address': '0xe7f4c89032a2488d327323548ab0459...     True  0.042933   \n97  {'address': '0xe7f4c89032a2488d327323548ab0459...     True  0.042933   \n98  {'address': '0x0fc584529a2aefa997697fafacba583...     True  0.042933   \n99  {'address': '0x0fc584529a2aefa997697fafacba583...     True  0.042933   \n\n    gasValue      callDepth  \n0   0.019653                 \n1   0.000933              0  \n2   0.000647              1  \n3   0.000364            1-0  \n4   0.003866              2  \n..       ...            ...  \n95  0.000015  4-1-4-0-9-0-0  \n96  0.000879    4-1-4-0-9-1  \n97  0.003702          4-1-5  \n98  0.000021              5  \n99  0.000359              6  \n\n[100 rows x 7 columns]",
      "text/html": "<div>\n<style scoped>\n    .dataframe tbody tr th:only-of-type {\n        vertical-align: middle;\n    }\n\n    .dataframe tbody tr th {\n        vertical-align: top;\n    }\n\n    .dataframe thead th {\n        text-align: right;\n    }\n</style>\n<table border=\"1\" class=\"dataframe\">\n  <thead>\n    <tr style=\"text-align: right;\">\n      <th></th>\n      <th>smartContract</th>\n      <th>smartContractMethod</th>\n      <th>caller</th>\n      <th>success</th>\n      <th>amount</th>\n      <th>gasValue</th>\n      <th>callDepth</th>\n    </tr>\n  </thead>\n  <tbody>\n    <tr>\n      <th>0</th>\n      <td>{'address': {'address': '0x0fc584529a2aefa9976...</td>\n      <td>{'name': 'buyAndRedeem', 'signatureHash': '7fc...</td>\n      <td>{'address': '0xf5ef6bcbc1b890e076ab2a68882c720...</td>\n      <td>True</td>\n      <td>0.042933</td>\n      <td>0.019653</td>\n      <td></td>\n    </tr>\n    <tr>\n      <th>1</th>\n      <td>{'address': {'address': '0xc02aaa39b223fe8d0a0...</td>\n      <td>{'name': 'deposit', 'signatureHash': 'd0e30db0'}</td>\n      <td>{'address': '0x0fc584529a2aefa997697fafacba583...</td>\n      <td>True</td>\n      <td>0.042933</td>\n      <td>0.000933</td>\n      <td>0</td>\n    </tr>\n    <tr>\n      <th>2</th>\n      <td>{'address': {'address': '0xbe86f647b167567525c...</td>\n      <td>{'name': 'getBaseStakeAmountForPlay', 'signatu...</td>\n      <td>{'address': '0x0fc584529a2aefa997697fafacba583...</td>\n      <td>True</td>\n      <td>0.042933</td>\n      <td>0.000647</td>\n      <td>1</td>\n    </tr>\n    <tr>\n      <th>3</th>\n      <td>{'address': {'address': '0x612447e8d0bdb922059...</td>\n      <td>{'name': 'vaultFees', 'signatureHash': '220613...</td>\n      <td>{'address': '0xbe86f647b167567525ccaafcd6f881f...</td>\n      <td>True</td>\n      <td>0.042933</td>\n      <td>0.000364</td>\n      <td>1-0</td>\n    </tr>\n    <tr>\n      <th>4</th>\n      <td>{'address': {'address': '0xd9e1ce17f2641f24ae8...</td>\n      <td>{'name': 'swapTokensForExactTokens', 'signatur...</td>\n      <td>{'address': '0x0fc584529a2aefa997697fafacba583...</td>\n      <td>True</td>\n      <td>0.042933</td>\n      <td>0.003866</td>\n      <td>2</td>\n    </tr>\n    <tr>\n      <th>...</th>\n      <td>...</td>\n      <td>...</td>\n      <td>...</td>\n      <td>...</td>\n      <td>...</td>\n      <td>...</td>\n      <td>...</td>\n    </tr>\n    <tr>\n      <th>95</th>\n      <td>{'address': {'address': '0x612447e8d0bdb922059...</td>\n      <td>{'name': 'childImplementation', 'signatureHash...</td>\n      <td>{'address': '0xbe86f647b167567525ccaafcd6f881f...</td>\n      <td>True</td>\n      <td>0.042933</td>\n      <td>0.000015</td>\n      <td>4-1-4-0-9-0-0</td>\n    </tr>\n    <tr>\n      <th>96</th>\n      <td>{'address': {'address': '0x73d2ff81fcea9832fc9...</td>\n      <td>{'name': 'approve', 'signatureHash': '095ea7b3'}</td>\n      <td>{'address': '0xe7f4c89032a2488d327323548ab0459...</td>\n      <td>True</td>\n      <td>0.042933</td>\n      <td>0.000879</td>\n      <td>4-1-4-0-9-1</td>\n    </tr>\n    <tr>\n      <th>97</th>\n      <td>{'address': {'address': '0x2216d47494e516d8206...</td>\n      <td>{'name': 'safeTransferFrom', 'signatureHash': ...</td>\n      <td>{'address': '0xe7f4c89032a2488d327323548ab0459...</td>\n      <td>True</td>\n      <td>0.042933</td>\n      <td>0.003702</td>\n      <td>4-1-5</td>\n    </tr>\n    <tr>\n      <th>98</th>\n      <td>{'address': {'address': '0xc02aaa39b223fe8d0a0...</td>\n      <td>{'name': 'balanceOf', 'signatureHash': '70a082...</td>\n      <td>{'address': '0x0fc584529a2aefa997697fafacba583...</td>\n      <td>True</td>\n      <td>0.042933</td>\n      <td>0.000021</td>\n      <td>5</td>\n    </tr>\n    <tr>\n      <th>99</th>\n      <td>{'address': {'address': '0xc02aaa39b223fe8d0a0...</td>\n      <td>{'name': 'withdraw', 'signatureHash': '2e1a7d4d'}</td>\n      <td>{'address': '0x0fc584529a2aefa997697fafacba583...</td>\n      <td>True</td>\n      <td>0.042933</td>\n      <td>0.000359</td>\n      <td>6</td>\n    </tr>\n  </tbody>\n</table>\n<p>100 rows × 7 columns</p>\n</div>"
     },
     "execution_count": 16,
     "metadata": {},
     "output_type": "execute_result"
    }
   ],
   "source": [
    "train_dfs[0]"
   ],
   "metadata": {
    "collapsed": false,
    "pycharm": {
     "name": "#%%\n"
    }
   }
  },
  {
   "cell_type": "markdown",
   "source": [
    "# Test"
   ],
   "metadata": {
    "collapsed": false,
    "pycharm": {
     "name": "#%% md\n"
    }
   }
  },
  {
   "cell_type": "code",
   "execution_count": 40,
   "outputs": [],
   "source": [
    "dfs = []\n",
    "for i in range(1, 10):\n",
    "    df = pd.read_csv(f\"./data/test/{i}.csv\")\n",
    "    df = df.drop('№', axis=1)\n",
    "    df[\"isToken\"] = df[\"isToken\"] == \"yes\"\n",
    "    dfs.append(df)"
   ],
   "metadata": {
    "collapsed": false,
    "pycharm": {
     "name": "#%%\n"
    }
   }
  },
  {
   "cell_type": "code",
   "execution_count": 41,
   "outputs": [
    {
     "data": {
      "text/plain": "                                       Address       Cluster  isToken  \\\n0   0x0fc584529a2aefa997697fafacba5831fac0c22d             1    False   \n1   0xc02aaa39b223fe8d0a0e5c4f27ead9083c756cc2  simple token     True   \n2   0xbe86f647b167567525ccaafcd6f881f1ee558216             1    False   \n3   0x612447e8d0bdb922059ce048bb5a7cef9e017812             1    False   \n4   0xd9e1ce17f2641f24ae83637ab66a2cca9c378b9f             2    False   \n5   0xd9f21104a0ab4bb2bc70774d4472b3c885fd022c             2     True   \n6   0xe7f4c89032a2488d327323548ab0459676269331             1     True   \n7   0x73d2ff81fcea9832fc9ee90521abde1150f6b52a             1    False   \n8   0xfd8a76dc204e461db5da4f38687adc9cc5ae4a86             1    False   \n9   0x0ef372b6a2f8bb030760261b858b6c50e92d1680             1    False   \n10  0x3e135c3e981fae3383a5ae0d323860a34cfab893             1    False   \n11  0x72012ada1d0a9e9cba22b3f13f3bc52b57ed6b66             1    False   \n12  0xb91bca4c6a607448a093803b3b2a9a4ed3e9f71e             1     True   \n13  0xaddc3e67a500f7037cd622b11df291a6351bfb64             1    False   \n14  0x688c3e4658b5367da06fd629e41879beab538e37             1    False   \n15  0xf7a232044c586d658f826e1932c37cad770b0687             1    False   \n16  0x77655099f72484fa7d8cd701112c129b35b6ca6a           NaN     True   \n17  0xc90b47731f9cd4db0df36c1e59fdca1fe9806475             1    False   \n18  0x2216d47494e516d8206b70fca8585820ed3c4946           NaN     True   \n19  0xf5ef6bcbc1b890e076ab2a68882c72099db2aa42        Sender    False   \n\n                                       CodeFor  \n0                                          NaN  \n1                                          NaN  \n2                                          NaN  \n3   0xbe86f647b167567525ccaafcd6f881f1ee558216  \n4                                          NaN  \n5                                          NaN  \n6                                          NaN  \n7                                          NaN  \n8                                          NaN  \n9   0xfd8a76dc204e461db5da4f38687adc9cc5ae4a86  \n10                                         NaN  \n11  0x3e135c3e981fae3383a5ae0d323860a34cfab893  \n12  0xaddc3e67a500f7037cd622b11df291a6351bfb64  \n13                                         NaN  \n14                                         NaN  \n15  0x688c3e4658b5367da06fd629e41879beab538e37  \n16                                         NaN  \n17  0x77655099f72484fa7d8cd701112c129b35b6ca6a  \n18                                         NaN  \n19                                         NaN  ",
      "text/html": "<div>\n<style scoped>\n    .dataframe tbody tr th:only-of-type {\n        vertical-align: middle;\n    }\n\n    .dataframe tbody tr th {\n        vertical-align: top;\n    }\n\n    .dataframe thead th {\n        text-align: right;\n    }\n</style>\n<table border=\"1\" class=\"dataframe\">\n  <thead>\n    <tr style=\"text-align: right;\">\n      <th></th>\n      <th>Address</th>\n      <th>Cluster</th>\n      <th>isToken</th>\n      <th>CodeFor</th>\n    </tr>\n  </thead>\n  <tbody>\n    <tr>\n      <th>0</th>\n      <td>0x0fc584529a2aefa997697fafacba5831fac0c22d</td>\n      <td>1</td>\n      <td>False</td>\n      <td>NaN</td>\n    </tr>\n    <tr>\n      <th>1</th>\n      <td>0xc02aaa39b223fe8d0a0e5c4f27ead9083c756cc2</td>\n      <td>simple token</td>\n      <td>True</td>\n      <td>NaN</td>\n    </tr>\n    <tr>\n      <th>2</th>\n      <td>0xbe86f647b167567525ccaafcd6f881f1ee558216</td>\n      <td>1</td>\n      <td>False</td>\n      <td>NaN</td>\n    </tr>\n    <tr>\n      <th>3</th>\n      <td>0x612447e8d0bdb922059ce048bb5a7cef9e017812</td>\n      <td>1</td>\n      <td>False</td>\n      <td>0xbe86f647b167567525ccaafcd6f881f1ee558216</td>\n    </tr>\n    <tr>\n      <th>4</th>\n      <td>0xd9e1ce17f2641f24ae83637ab66a2cca9c378b9f</td>\n      <td>2</td>\n      <td>False</td>\n      <td>NaN</td>\n    </tr>\n    <tr>\n      <th>5</th>\n      <td>0xd9f21104a0ab4bb2bc70774d4472b3c885fd022c</td>\n      <td>2</td>\n      <td>True</td>\n      <td>NaN</td>\n    </tr>\n    <tr>\n      <th>6</th>\n      <td>0xe7f4c89032a2488d327323548ab0459676269331</td>\n      <td>1</td>\n      <td>True</td>\n      <td>NaN</td>\n    </tr>\n    <tr>\n      <th>7</th>\n      <td>0x73d2ff81fcea9832fc9ee90521abde1150f6b52a</td>\n      <td>1</td>\n      <td>False</td>\n      <td>NaN</td>\n    </tr>\n    <tr>\n      <th>8</th>\n      <td>0xfd8a76dc204e461db5da4f38687adc9cc5ae4a86</td>\n      <td>1</td>\n      <td>False</td>\n      <td>NaN</td>\n    </tr>\n    <tr>\n      <th>9</th>\n      <td>0x0ef372b6a2f8bb030760261b858b6c50e92d1680</td>\n      <td>1</td>\n      <td>False</td>\n      <td>0xfd8a76dc204e461db5da4f38687adc9cc5ae4a86</td>\n    </tr>\n    <tr>\n      <th>10</th>\n      <td>0x3e135c3e981fae3383a5ae0d323860a34cfab893</td>\n      <td>1</td>\n      <td>False</td>\n      <td>NaN</td>\n    </tr>\n    <tr>\n      <th>11</th>\n      <td>0x72012ada1d0a9e9cba22b3f13f3bc52b57ed6b66</td>\n      <td>1</td>\n      <td>False</td>\n      <td>0x3e135c3e981fae3383a5ae0d323860a34cfab893</td>\n    </tr>\n    <tr>\n      <th>12</th>\n      <td>0xb91bca4c6a607448a093803b3b2a9a4ed3e9f71e</td>\n      <td>1</td>\n      <td>True</td>\n      <td>0xaddc3e67a500f7037cd622b11df291a6351bfb64</td>\n    </tr>\n    <tr>\n      <th>13</th>\n      <td>0xaddc3e67a500f7037cd622b11df291a6351bfb64</td>\n      <td>1</td>\n      <td>False</td>\n      <td>NaN</td>\n    </tr>\n    <tr>\n      <th>14</th>\n      <td>0x688c3e4658b5367da06fd629e41879beab538e37</td>\n      <td>1</td>\n      <td>False</td>\n      <td>NaN</td>\n    </tr>\n    <tr>\n      <th>15</th>\n      <td>0xf7a232044c586d658f826e1932c37cad770b0687</td>\n      <td>1</td>\n      <td>False</td>\n      <td>0x688c3e4658b5367da06fd629e41879beab538e37</td>\n    </tr>\n    <tr>\n      <th>16</th>\n      <td>0x77655099f72484fa7d8cd701112c129b35b6ca6a</td>\n      <td>NaN</td>\n      <td>True</td>\n      <td>NaN</td>\n    </tr>\n    <tr>\n      <th>17</th>\n      <td>0xc90b47731f9cd4db0df36c1e59fdca1fe9806475</td>\n      <td>1</td>\n      <td>False</td>\n      <td>0x77655099f72484fa7d8cd701112c129b35b6ca6a</td>\n    </tr>\n    <tr>\n      <th>18</th>\n      <td>0x2216d47494e516d8206b70fca8585820ed3c4946</td>\n      <td>NaN</td>\n      <td>True</td>\n      <td>NaN</td>\n    </tr>\n    <tr>\n      <th>19</th>\n      <td>0xf5ef6bcbc1b890e076ab2a68882c72099db2aa42</td>\n      <td>Sender</td>\n      <td>False</td>\n      <td>NaN</td>\n    </tr>\n  </tbody>\n</table>\n</div>"
     },
     "execution_count": 41,
     "metadata": {},
     "output_type": "execute_result"
    }
   ],
   "source": [
    "dfs[0]"
   ],
   "metadata": {
    "collapsed": false,
    "pycharm": {
     "name": "#%%\n"
    }
   }
  },
  {
   "cell_type": "code",
   "execution_count": 55,
   "outputs": [
    {
     "name": "stdout",
     "output_type": "stream",
     "text": [
      "(array([], dtype=float64), array([1., 1., 1.]))\n",
      "(array([], dtype=float64), array([1., 1., 1.]))\n",
      "(array([], dtype=float64), array([1., 1., 1.]))\n",
      "(array([], dtype=float64), array([1., 1., 1.]))\n",
      "(array([], dtype=float64), array([1., 1., 1.]))\n",
      "(array([], dtype=float64), array([1., 1., 1.]))\n",
      "(array([], dtype=float64), array([1., 1., 1.]))\n",
      "(array([], dtype=float64), array([1., 1., 1.]))\n",
      "(array([], dtype=float64), array([1., 1., 1.]))\n"
     ]
    }
   ],
   "source": [
    "import numpy as np\n",
    "res = np.array([])\n",
    "\n",
    "for df in dfs:\n",
    "    avg"
   ],
   "metadata": {
    "collapsed": false,
    "pycharm": {
     "name": "#%%\n"
    }
   }
  },
  {
   "cell_type": "code",
   "execution_count": 51,
   "outputs": [
    {
     "data": {
      "text/plain": "array([1., 1., 1., 1., 1., 1., 1., 1., 1., 1., 1., 1., 1., 1., 1., 1., 1.,\n       1., 1., 1., 1., 1., 1., 1., 1., 1., 1.])"
     },
     "execution_count": 51,
     "metadata": {},
     "output_type": "execute_result"
    }
   ],
   "source": [
    "res"
   ],
   "metadata": {
    "collapsed": false,
    "pycharm": {
     "name": "#%%\n"
    }
   }
  }
 ],
 "metadata": {
  "kernelspec": {
   "display_name": "Python 3",
   "language": "python",
   "name": "python3"
  },
  "language_info": {
   "codemirror_mode": {
    "name": "ipython",
    "version": 2
   },
   "file_extension": ".py",
   "mimetype": "text/x-python",
   "name": "python",
   "nbconvert_exporter": "python",
   "pygments_lexer": "ipython2",
   "version": "2.7.6"
  }
 },
 "nbformat": 4,
 "nbformat_minor": 0
}