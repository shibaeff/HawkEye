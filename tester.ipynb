{
 "cells": [
  {
   "cell_type": "code",
   "execution_count": 1,
   "metadata": {
    "collapsed": true,
    "pycharm": {
     "name": "#%%\n"
    }
   },
   "outputs": [],
   "source": [
    "import pandas as pd\n",
    "from src.tx_analyzer import BitQuery\n",
    "from src.tester import TokenTester"
   ]
  },
  {
   "cell_type": "code",
   "execution_count": 2,
   "outputs": [],
   "source": [
    "transactions = [\n",
    "    \"0xade227c3ad59395cf7a15ceb56085a77c61a29216858fc789d8413ef929a5fbe\",\n",
    "    \"0x4494df0f8db3a839ed914bfa58103f7e01b85d159a7d7d6c1851044aa35eadcb\",\n",
    "    \"0x8c8c579b81e40d412c969951c36c8b60a650d626a080bdcf812e0e82b4e72535\",\n",
    "    \"0x36682e448066ae1831d216c8c4cb3432c7cdddd17c5cd2f17e6582320af68e0b\",\n",
    "    \"0x1d7ed2a71554e69289f7e6602d9f9ef2b9171489966fea336ba9c6670f0fc0e5\",\n",
    "    \"0xbfdbbfd8d016f960858bf505b5dccd614f5066aef91b5cb756b7f12f8b7fc532\",\n",
    "    \"0x9bc514d784ee389511d16ad66a47dc9b58e7a7717efec5609e61f6bf1539717c\",\n",
    "    \"0x2e75b9222616e3970d5408fe33ab994f02f3a207af4dd003fa7ea4b94fbaddbd\",\n",
    "    \"0x88e486e56b68fa127b93e9c394f5a91e2304c70f7f800acfbe88703f8456b601\"\n",
    "]"
   ],
   "metadata": {
    "collapsed": false,
    "pycharm": {
     "name": "#%%\n"
    }
   }
  },
  {
   "cell_type": "markdown",
   "source": [
    "# Analyze"
   ],
   "metadata": {
    "collapsed": false,
    "pycharm": {
     "name": "#%% md\n"
    }
   }
  },
  {
   "cell_type": "markdown",
   "source": [
    "Analyze transactions"
   ],
   "metadata": {
    "collapsed": false,
    "pycharm": {
     "name": "#%% md\n"
    }
   }
  },
  {
   "cell_type": "code",
   "execution_count": 3,
   "outputs": [
    {
     "name": "stdout",
     "output_type": "stream",
     "text": [
      "0xade227c3ad59395cf7a15ceb56085a77c61a29216858fc789d8413ef929a5fbe\n"
     ]
    },
    {
     "ename": "TypeError",
     "evalue": "'NoneType' object is not iterable",
     "output_type": "error",
     "traceback": [
      "\u001B[0;31m---------------------------------------------------------------------------\u001B[0m",
      "\u001B[0;31mTypeError\u001B[0m                                 Traceback (most recent call last)",
      "\u001B[0;32m/tmp/ipykernel_16388/1598732206.py\u001B[0m in \u001B[0;36m<module>\u001B[0;34m\u001B[0m\n\u001B[1;32m      3\u001B[0m     \u001B[0mprint\u001B[0m\u001B[0;34m(\u001B[0m\u001B[0mtx\u001B[0m\u001B[0;34m)\u001B[0m\u001B[0;34m\u001B[0m\u001B[0;34m\u001B[0m\u001B[0m\n\u001B[1;32m      4\u001B[0m     \u001B[0mb\u001B[0m \u001B[0;34m=\u001B[0m \u001B[0mBitQuery\u001B[0m\u001B[0;34m(\u001B[0m\u001B[0;34m)\u001B[0m\u001B[0;34m\u001B[0m\u001B[0;34m\u001B[0m\u001B[0m\n\u001B[0;32m----> 5\u001B[0;31m     \u001B[0mprint\u001B[0m\u001B[0;34m(\u001B[0m\u001B[0mb\u001B[0m\u001B[0;34m.\u001B[0m\u001B[0mparse\u001B[0m\u001B[0;34m(\u001B[0m\u001B[0mtransactions\u001B[0m\u001B[0;34m)\u001B[0m\u001B[0;34m)\u001B[0m\u001B[0;34m\u001B[0m\u001B[0;34m\u001B[0m\u001B[0m\n\u001B[0m\u001B[1;32m      6\u001B[0m     \u001B[0;31m# results.append(b.to_pandas())\u001B[0m\u001B[0;34m\u001B[0m\u001B[0;34m\u001B[0m\u001B[0;34m\u001B[0m\u001B[0m\n",
      "\u001B[0;32m~/Desktop/Python3/P2PAnalyzer/src/tx_analyzer/bitquery.py\u001B[0m in \u001B[0;36mparse\u001B[0;34m(self, tx_hash)\u001B[0m\n\u001B[1;32m     40\u001B[0m         \u001B[0mself\u001B[0m\u001B[0;34m.\u001B[0m\u001B[0m_Res\u001B[0m \u001B[0;34m=\u001B[0m \u001B[0mdict\u001B[0m\u001B[0;34m(\u001B[0m\u001B[0;34m)\u001B[0m\u001B[0;34m\u001B[0m\u001B[0;34m\u001B[0m\u001B[0m\n\u001B[1;32m     41\u001B[0m         \u001B[0mprev\u001B[0m \u001B[0;34m=\u001B[0m \u001B[0;32mNone\u001B[0m\u001B[0;34m\u001B[0m\u001B[0;34m\u001B[0m\u001B[0m\n\u001B[0;32m---> 42\u001B[0;31m         \u001B[0;32mfor\u001B[0m \u001B[0mitem\u001B[0m \u001B[0;32min\u001B[0m \u001B[0mraw\u001B[0m\u001B[0;34m:\u001B[0m\u001B[0;34m\u001B[0m\u001B[0;34m\u001B[0m\u001B[0m\n\u001B[0m\u001B[1;32m     43\u001B[0m             \u001B[0maddr\u001B[0m \u001B[0;34m=\u001B[0m \u001B[0mitem\u001B[0m\u001B[0;34m[\u001B[0m\u001B[0;34m\"smartContract\"\u001B[0m\u001B[0;34m]\u001B[0m\u001B[0;34m[\u001B[0m\u001B[0;34m\"address\"\u001B[0m\u001B[0;34m]\u001B[0m\u001B[0;34m[\u001B[0m\u001B[0;34m\"address\"\u001B[0m\u001B[0;34m]\u001B[0m\u001B[0;34m\u001B[0m\u001B[0;34m\u001B[0m\u001B[0m\n\u001B[1;32m     44\u001B[0m             \u001B[0mrow\u001B[0m \u001B[0;34m=\u001B[0m \u001B[0mContractAnalyzer\u001B[0m\u001B[0;34m(\u001B[0m\u001B[0;34m)\u001B[0m\u001B[0;34m.\u001B[0m\u001B[0mfit_predict\u001B[0m\u001B[0;34m(\u001B[0m\u001B[0maddr\u001B[0m\u001B[0;34m,\u001B[0m \u001B[0mitem\u001B[0m\u001B[0;34m,\u001B[0m \u001B[0mprev\u001B[0m\u001B[0;34m)\u001B[0m\u001B[0;34m\u001B[0m\u001B[0;34m\u001B[0m\u001B[0m\n",
      "\u001B[0;31mTypeError\u001B[0m: 'NoneType' object is not iterable"
     ]
    }
   ],
   "source": [
    "results = []\n",
    "for tx in transactions:\n",
    "    print(tx)\n",
    "    b = BitQuery()\n",
    "    print(b.parse(transactions))\n",
    "    # results.append(b.to_pandas())"
   ],
   "metadata": {
    "collapsed": false,
    "pycharm": {
     "name": "#%%\n"
    }
   }
  },
  {
   "cell_type": "code",
   "execution_count": 58,
   "outputs": [
    {
     "ename": "NameError",
     "evalue": "name 'results' is not defined",
     "output_type": "error",
     "traceback": [
      "\u001B[0;31m---------------------------------------------------------------------------\u001B[0m",
      "\u001B[0;31mNameError\u001B[0m                                 Traceback (most recent call last)",
      "\u001B[0;32m/tmp/ipykernel_14423/3130291918.py\u001B[0m in \u001B[0;36m<module>\u001B[0;34m\u001B[0m\n\u001B[0;32m----> 1\u001B[0;31m \u001B[0mresults\u001B[0m\u001B[0;34m[\u001B[0m\u001B[0;36m0\u001B[0m\u001B[0;34m]\u001B[0m\u001B[0;34m\u001B[0m\u001B[0;34m\u001B[0m\u001B[0m\n\u001B[0m",
      "\u001B[0;31mNameError\u001B[0m: name 'results' is not defined"
     ]
    }
   ],
   "source": [
    "results[0]"
   ],
   "metadata": {
    "collapsed": false,
    "pycharm": {
     "name": "#%%\n"
    }
   }
  },
  {
   "cell_type": "markdown",
   "source": [
    "# Test"
   ],
   "metadata": {
    "collapsed": false,
    "pycharm": {
     "name": "#%% md\n"
    }
   }
  },
  {
   "cell_type": "code",
   "execution_count": 40,
   "outputs": [],
   "source": [
    "dfs = []\n",
    "for i in range(1, 10):\n",
    "    df = pd.read_csv(f\"./data/test/{i}.csv\")\n",
    "    df = df.drop('№', axis=1)\n",
    "    df[\"isToken\"] = df[\"isToken\"] == \"yes\"\n",
    "    dfs.append(df)"
   ],
   "metadata": {
    "collapsed": false,
    "pycharm": {
     "name": "#%%\n"
    }
   }
  },
  {
   "cell_type": "code",
   "execution_count": 41,
   "outputs": [
    {
     "data": {
      "text/plain": "                                       Address       Cluster  isToken  \\\n0   0x0fc584529a2aefa997697fafacba5831fac0c22d             1    False   \n1   0xc02aaa39b223fe8d0a0e5c4f27ead9083c756cc2  simple token     True   \n2   0xbe86f647b167567525ccaafcd6f881f1ee558216             1    False   \n3   0x612447e8d0bdb922059ce048bb5a7cef9e017812             1    False   \n4   0xd9e1ce17f2641f24ae83637ab66a2cca9c378b9f             2    False   \n5   0xd9f21104a0ab4bb2bc70774d4472b3c885fd022c             2     True   \n6   0xe7f4c89032a2488d327323548ab0459676269331             1     True   \n7   0x73d2ff81fcea9832fc9ee90521abde1150f6b52a             1    False   \n8   0xfd8a76dc204e461db5da4f38687adc9cc5ae4a86             1    False   \n9   0x0ef372b6a2f8bb030760261b858b6c50e92d1680             1    False   \n10  0x3e135c3e981fae3383a5ae0d323860a34cfab893             1    False   \n11  0x72012ada1d0a9e9cba22b3f13f3bc52b57ed6b66             1    False   \n12  0xb91bca4c6a607448a093803b3b2a9a4ed3e9f71e             1     True   \n13  0xaddc3e67a500f7037cd622b11df291a6351bfb64             1    False   \n14  0x688c3e4658b5367da06fd629e41879beab538e37             1    False   \n15  0xf7a232044c586d658f826e1932c37cad770b0687             1    False   \n16  0x77655099f72484fa7d8cd701112c129b35b6ca6a           NaN     True   \n17  0xc90b47731f9cd4db0df36c1e59fdca1fe9806475             1    False   \n18  0x2216d47494e516d8206b70fca8585820ed3c4946           NaN     True   \n19  0xf5ef6bcbc1b890e076ab2a68882c72099db2aa42        Sender    False   \n\n                                       CodeFor  \n0                                          NaN  \n1                                          NaN  \n2                                          NaN  \n3   0xbe86f647b167567525ccaafcd6f881f1ee558216  \n4                                          NaN  \n5                                          NaN  \n6                                          NaN  \n7                                          NaN  \n8                                          NaN  \n9   0xfd8a76dc204e461db5da4f38687adc9cc5ae4a86  \n10                                         NaN  \n11  0x3e135c3e981fae3383a5ae0d323860a34cfab893  \n12  0xaddc3e67a500f7037cd622b11df291a6351bfb64  \n13                                         NaN  \n14                                         NaN  \n15  0x688c3e4658b5367da06fd629e41879beab538e37  \n16                                         NaN  \n17  0x77655099f72484fa7d8cd701112c129b35b6ca6a  \n18                                         NaN  \n19                                         NaN  ",
      "text/html": "<div>\n<style scoped>\n    .dataframe tbody tr th:only-of-type {\n        vertical-align: middle;\n    }\n\n    .dataframe tbody tr th {\n        vertical-align: top;\n    }\n\n    .dataframe thead th {\n        text-align: right;\n    }\n</style>\n<table border=\"1\" class=\"dataframe\">\n  <thead>\n    <tr style=\"text-align: right;\">\n      <th></th>\n      <th>Address</th>\n      <th>Cluster</th>\n      <th>isToken</th>\n      <th>CodeFor</th>\n    </tr>\n  </thead>\n  <tbody>\n    <tr>\n      <th>0</th>\n      <td>0x0fc584529a2aefa997697fafacba5831fac0c22d</td>\n      <td>1</td>\n      <td>False</td>\n      <td>NaN</td>\n    </tr>\n    <tr>\n      <th>1</th>\n      <td>0xc02aaa39b223fe8d0a0e5c4f27ead9083c756cc2</td>\n      <td>simple token</td>\n      <td>True</td>\n      <td>NaN</td>\n    </tr>\n    <tr>\n      <th>2</th>\n      <td>0xbe86f647b167567525ccaafcd6f881f1ee558216</td>\n      <td>1</td>\n      <td>False</td>\n      <td>NaN</td>\n    </tr>\n    <tr>\n      <th>3</th>\n      <td>0x612447e8d0bdb922059ce048bb5a7cef9e017812</td>\n      <td>1</td>\n      <td>False</td>\n      <td>0xbe86f647b167567525ccaafcd6f881f1ee558216</td>\n    </tr>\n    <tr>\n      <th>4</th>\n      <td>0xd9e1ce17f2641f24ae83637ab66a2cca9c378b9f</td>\n      <td>2</td>\n      <td>False</td>\n      <td>NaN</td>\n    </tr>\n    <tr>\n      <th>5</th>\n      <td>0xd9f21104a0ab4bb2bc70774d4472b3c885fd022c</td>\n      <td>2</td>\n      <td>True</td>\n      <td>NaN</td>\n    </tr>\n    <tr>\n      <th>6</th>\n      <td>0xe7f4c89032a2488d327323548ab0459676269331</td>\n      <td>1</td>\n      <td>True</td>\n      <td>NaN</td>\n    </tr>\n    <tr>\n      <th>7</th>\n      <td>0x73d2ff81fcea9832fc9ee90521abde1150f6b52a</td>\n      <td>1</td>\n      <td>False</td>\n      <td>NaN</td>\n    </tr>\n    <tr>\n      <th>8</th>\n      <td>0xfd8a76dc204e461db5da4f38687adc9cc5ae4a86</td>\n      <td>1</td>\n      <td>False</td>\n      <td>NaN</td>\n    </tr>\n    <tr>\n      <th>9</th>\n      <td>0x0ef372b6a2f8bb030760261b858b6c50e92d1680</td>\n      <td>1</td>\n      <td>False</td>\n      <td>0xfd8a76dc204e461db5da4f38687adc9cc5ae4a86</td>\n    </tr>\n    <tr>\n      <th>10</th>\n      <td>0x3e135c3e981fae3383a5ae0d323860a34cfab893</td>\n      <td>1</td>\n      <td>False</td>\n      <td>NaN</td>\n    </tr>\n    <tr>\n      <th>11</th>\n      <td>0x72012ada1d0a9e9cba22b3f13f3bc52b57ed6b66</td>\n      <td>1</td>\n      <td>False</td>\n      <td>0x3e135c3e981fae3383a5ae0d323860a34cfab893</td>\n    </tr>\n    <tr>\n      <th>12</th>\n      <td>0xb91bca4c6a607448a093803b3b2a9a4ed3e9f71e</td>\n      <td>1</td>\n      <td>True</td>\n      <td>0xaddc3e67a500f7037cd622b11df291a6351bfb64</td>\n    </tr>\n    <tr>\n      <th>13</th>\n      <td>0xaddc3e67a500f7037cd622b11df291a6351bfb64</td>\n      <td>1</td>\n      <td>False</td>\n      <td>NaN</td>\n    </tr>\n    <tr>\n      <th>14</th>\n      <td>0x688c3e4658b5367da06fd629e41879beab538e37</td>\n      <td>1</td>\n      <td>False</td>\n      <td>NaN</td>\n    </tr>\n    <tr>\n      <th>15</th>\n      <td>0xf7a232044c586d658f826e1932c37cad770b0687</td>\n      <td>1</td>\n      <td>False</td>\n      <td>0x688c3e4658b5367da06fd629e41879beab538e37</td>\n    </tr>\n    <tr>\n      <th>16</th>\n      <td>0x77655099f72484fa7d8cd701112c129b35b6ca6a</td>\n      <td>NaN</td>\n      <td>True</td>\n      <td>NaN</td>\n    </tr>\n    <tr>\n      <th>17</th>\n      <td>0xc90b47731f9cd4db0df36c1e59fdca1fe9806475</td>\n      <td>1</td>\n      <td>False</td>\n      <td>0x77655099f72484fa7d8cd701112c129b35b6ca6a</td>\n    </tr>\n    <tr>\n      <th>18</th>\n      <td>0x2216d47494e516d8206b70fca8585820ed3c4946</td>\n      <td>NaN</td>\n      <td>True</td>\n      <td>NaN</td>\n    </tr>\n    <tr>\n      <th>19</th>\n      <td>0xf5ef6bcbc1b890e076ab2a68882c72099db2aa42</td>\n      <td>Sender</td>\n      <td>False</td>\n      <td>NaN</td>\n    </tr>\n  </tbody>\n</table>\n</div>"
     },
     "execution_count": 41,
     "metadata": {},
     "output_type": "execute_result"
    }
   ],
   "source": [
    "dfs[0]"
   ],
   "metadata": {
    "collapsed": false,
    "pycharm": {
     "name": "#%%\n"
    }
   }
  },
  {
   "cell_type": "code",
   "execution_count": 55,
   "outputs": [
    {
     "name": "stdout",
     "output_type": "stream",
     "text": [
      "(array([], dtype=float64), array([1., 1., 1.]))\n",
      "(array([], dtype=float64), array([1., 1., 1.]))\n",
      "(array([], dtype=float64), array([1., 1., 1.]))\n",
      "(array([], dtype=float64), array([1., 1., 1.]))\n",
      "(array([], dtype=float64), array([1., 1., 1.]))\n",
      "(array([], dtype=float64), array([1., 1., 1.]))\n",
      "(array([], dtype=float64), array([1., 1., 1.]))\n",
      "(array([], dtype=float64), array([1., 1., 1.]))\n",
      "(array([], dtype=float64), array([1., 1., 1.]))\n"
     ]
    }
   ],
   "source": [
    "import numpy as np\n",
    "res = np.array([])\n",
    "\n",
    "for df in dfs:\n",
    "    avg"
   ],
   "metadata": {
    "collapsed": false,
    "pycharm": {
     "name": "#%%\n"
    }
   }
  },
  {
   "cell_type": "code",
   "execution_count": 51,
   "outputs": [
    {
     "data": {
      "text/plain": "array([1., 1., 1., 1., 1., 1., 1., 1., 1., 1., 1., 1., 1., 1., 1., 1., 1.,\n       1., 1., 1., 1., 1., 1., 1., 1., 1., 1.])"
     },
     "execution_count": 51,
     "metadata": {},
     "output_type": "execute_result"
    }
   ],
   "source": [
    "res"
   ],
   "metadata": {
    "collapsed": false,
    "pycharm": {
     "name": "#%%\n"
    }
   }
  }
 ],
 "metadata": {
  "kernelspec": {
   "display_name": "Python 3",
   "language": "python",
   "name": "python3"
  },
  "language_info": {
   "codemirror_mode": {
    "name": "ipython",
    "version": 2
   },
   "file_extension": ".py",
   "mimetype": "text/x-python",
   "name": "python",
   "nbconvert_exporter": "python",
   "pygments_lexer": "ipython2",
   "version": "2.7.6"
  }
 },
 "nbformat": 4,
 "nbformat_minor": 0
}