{
 "cells": [
  {
   "cell_type": "code",
   "execution_count": 1,
   "outputs": [],
   "source": [
    "from src.tx_analyzer import *\n",
    "bq = BitQuery()"
   ],
   "metadata": {
    "collapsed": false,
    "pycharm": {
     "name": "#%%\n"
    }
   }
  },
  {
   "cell_type": "code",
   "execution_count": 2,
   "outputs": [
    {
     "data": {
      "text/plain": "{'0x41671ba1abcba387b9b2b752c205e22e916be6e3': {'Address': '0x41671ba1abcba387b9b2b752c205e22e916be6e3',\n  'isToken': False,\n  'Cluster': '0',\n  'CodeFor': ''},\n '0xbd82a0c250608543b8cacfd4f0e4438438698df6': {'Address': '0xbd82a0c250608543b8cacfd4f0e4438438698df6',\n  'isToken': False,\n  'Cluster': '0',\n  'CodeFor': '0x41671ba1abcba387b9b2b752c205e22e916be6e3'},\n '0x2a8facc9d49fbc3ecff569847833c380a13418a8': {'Address': '0x2a8facc9d49fbc3ecff569847833c380a13418a8',\n  'isToken': False,\n  'Cluster': '0',\n  'CodeFor': ''},\n '0xafa40da6a373ec4bbfddaf2e695f3014af5376c5': {'Address': '0xafa40da6a373ec4bbfddaf2e695f3014af5376c5',\n  'isToken': False,\n  'Cluster': '0',\n  'CodeFor': '0x2a8facc9d49fbc3ecff569847833c380a13418a8'},\n '0xc4e15973e6ff2a35cc804c2cf9d2a1b817a8b40f': {'Address': '0xc4e15973e6ff2a35cc804c2cf9d2a1b817a8b40f',\n  'isToken': True,\n  'Cluster': '0',\n  'CodeFor': ''},\n '0x6def55d2e18486b9ddfaa075bc4e4ee0b28c1545': {'Address': '0x6def55d2e18486b9ddfaa075bc4e4ee0b28c1545',\n  'isToken': True,\n  'Cluster': '0',\n  'CodeFor': ''},\n '0x5c7adb3fd0df2d1822a36922dd941e16d2bf4e51': {'Address': '0x5c7adb3fd0df2d1822a36922dd941e16d2bf4e51',\n  'isToken': False,\n  'Cluster': '0',\n  'CodeFor': '0x6def55d2e18486b9ddfaa075bc4e4ee0b28c1545'},\n '0x93054188d876f558f4a66b2ef1d97d16edf0895b': {'Address': '0x93054188d876f558f4a66b2ef1d97d16edf0895b',\n  'isToken': True,\n  'Cluster': '0',\n  'CodeFor': ''},\n '0xeb4c2781e4eba804ce9a9803c67d0893436bb27d': {'Address': '0xeb4c2781e4eba804ce9a9803c67d0893436bb27d',\n  'isToken': True,\n  'Cluster': '0',\n  'CodeFor': '0x93054188d876f558f4a66b2ef1d97d16edf0895b'},\n '0xe2d6ccac3ee3a21abf7bedbe2e107ffc0c037e80': {'Address': '0xe2d6ccac3ee3a21abf7bedbe2e107ffc0c037e80',\n  'isToken': False,\n  'Cluster': '0',\n  'CodeFor': '0xeb4c2781e4eba804ce9a9803c67d0893436bb27d'},\n '0x49849c98ae39fff122806c06791fa73784fb3675': {'Address': '0x49849c98ae39fff122806c06791fa73784fb3675',\n  'isToken': True,\n  'Cluster': '0',\n  'CodeFor': ''},\n '0x63cf44b2548e4493fd099222a1ec79f3344d9682': {'Address': '0x63cf44b2548e4493fd099222a1ec79f3344d9682',\n  'isToken': False,\n  'Cluster': '0',\n  'CodeFor': ''},\n '0x6354e79f21b56c11f48bcd7c451be456d7102a36': {'Address': '0x6354e79f21b56c11f48bcd7c451be456d7102a36',\n  'isToken': False,\n  'Cluster': '0',\n  'CodeFor': '0x63cf44b2548e4493fd099222a1ec79f3344d9682'},\n '0x444b860128b7bf8c0e864bdc3b7a36a940db7d88': {'Address': '0x444b860128b7bf8c0e864bdc3b7a36a940db7d88',\n  'isToken': False,\n  'Cluster': '0',\n  'CodeFor': ''},\n '0x8b60386a978dfc3241e9112db3ea009331838846': {'Address': '0x8b60386a978dfc3241e9112db3ea009331838846',\n  'isToken': False,\n  'Cluster': '0',\n  'CodeFor': '0x444b860128b7bf8c0e864bdc3b7a36a940db7d88'},\n '0xb1f2cdec61db658f091671f5f199635aef202cac': {'Address': '0xb1f2cdec61db658f091671f5f199635aef202cac',\n  'isToken': False,\n  'Cluster': '0',\n  'CodeFor': ''},\n '0xd04c48a53c111300ad41190d63681ed3dad998ec': {'Address': '0xd04c48a53c111300ad41190d63681ed3dad998ec',\n  'isToken': True,\n  'Cluster': '0',\n  'CodeFor': ''},\n '0x7fc77b5c7614e1533320ea6ddc2eb61fa00a9714': {'Address': '0x7fc77b5c7614e1533320ea6ddc2eb61fa00a9714',\n  'isToken': True,\n  'Cluster': '0',\n  'CodeFor': '0xc25099792e9349c7dd09759744ea681c7de2cb66'},\n '0x075b1bb99792c9e1041ba13afef80c91a1e70fb3': {'Address': '0x075b1bb99792c9e1041ba13afef80c91a1e70fb3',\n  'isToken': True,\n  'Cluster': '0',\n  'CodeFor': ''},\n '0x3efc97a8e23f463e71bf28eb19690d097797eb17': {'Address': '0x3efc97a8e23f463e71bf28eb19690d097797eb17',\n  'isToken': False,\n  'Cluster': '0',\n  'CodeFor': ''},\n '0xe3c63d747aca7fb9e9404a09520d7a2a4fefeeaa': {'Address': '0xe3c63d747aca7fb9e9404a09520d7a2a4fefeeaa',\n  'isToken': False,\n  'Cluster': '0',\n  'CodeFor': '0x3efc97a8e23f463e71bf28eb19690d097797eb17'},\n '0x705350c4bcd35c9441419ddd5d2f097d7a55410f': {'Address': '0x705350c4bcd35c9441419ddd5d2f097d7a55410f',\n  'isToken': False,\n  'Cluster': '0',\n  'CodeFor': ''},\n '0xb9d076fde463dbc9f915e5392f807315bf940334': {'Address': '0xb9d076fde463dbc9f915e5392f807315bf940334',\n  'isToken': True,\n  'Cluster': '0',\n  'CodeFor': ''},\n '0xc25099792e9349c7dd09759744ea681c7de2cb66': {'Address': '0xc25099792e9349c7dd09759744ea681c7de2cb66',\n  'isToken': True,\n  'Cluster': '0',\n  'CodeFor': ''},\n '0x64eda51d3ad40d56b9dfc5554e06f94e1dd786fd': {'Address': '0x64eda51d3ad40d56b9dfc5554e06f94e1dd786fd',\n  'isToken': True,\n  'Cluster': '0',\n  'CodeFor': ''},\n '0xe2fa197eaa5c726426003074147a08beaa59403b': {'Address': '0xe2fa197eaa5c726426003074147a08beaa59403b',\n  'isToken': False,\n  'Cluster': '0',\n  'CodeFor': ''},\n '0x1989c39bc167678eac6e9ade5d803cc3523011cf': {'Address': '0x1989c39bc167678eac6e9ade5d803cc3523011cf',\n  'isToken': False,\n  'Cluster': '0',\n  'CodeFor': '0xe2fa197eaa5c726426003074147a08beaa59403b'},\n '0x6828bcf74279ee32f2723ec536c22c51eed383c6': {'Address': '0x6828bcf74279ee32f2723ec536c22c51eed383c6',\n  'isToken': False,\n  'Cluster': '0',\n  'CodeFor': ''},\n '0x825218bed8be0b30be39475755acee0250c50627': {'Address': '0x825218bed8be0b30be39475755acee0250c50627',\n  'isToken': False,\n  'Cluster': '0',\n  'CodeFor': ''},\n '0xa9499b50c4a74000687435a895b55974f079ecaa': {'Address': '0xa9499b50c4a74000687435a895b55974f079ecaa',\n  'isToken': False,\n  'Cluster': '0',\n  'CodeFor': '0x825218bed8be0b30be39475755acee0250c50627'},\n '0x4b92d19c11435614cd49af1b589001b7c08cd4d5': {'Address': '0x4b92d19c11435614cd49af1b589001b7c08cd4d5',\n  'isToken': True,\n  'Cluster': '0',\n  'CodeFor': ''},\n '0xc0a972a3cf8e52167589694d135abb66409f9b30': {'Address': '0xc0a972a3cf8e52167589694d135abb66409f9b30',\n  'isToken': False,\n  'Cluster': '0',\n  'CodeFor': '0x4b92d19c11435614cd49af1b589001b7c08cd4d5'},\n '0xa696a63cc78dffa1a63e9e50587c197387ff6c7e': {'Address': '0xa696a63cc78dffa1a63e9e50587c197387ff6c7e',\n  'isToken': True,\n  'Cluster': '0',\n  'CodeFor': ''},\n '0x2260fac5e5542a773aa44fbcfedf7c193bc2c599': {'Address': '0x2260fac5e5542a773aa44fbcfedf7c193bc2c599',\n  'isToken': True,\n  'Cluster': 'Simple Token',\n  'CodeFor': '0xa696a63cc78dffa1a63e9e50587c197387ff6c7e'},\n '0xd765bce319b143c7ca0eb384d7db2d771152df6e': {'Address': '0xd765bce319b143c7ca0eb384d7db2d771152df6e',\n  'Cluster': 'Sender',\n  'isToken': False,\n  'CodeFor': ''}}"
     },
     "execution_count": 2,
     "metadata": {},
     "output_type": "execute_result"
    }
   ],
   "source": [
    "# bq.run_query()\n",
    "bq.parse(\"0x36682e448066ae1831d216c8c4cb3432c7cdddd17c5cd2f17e6582320af68e0b\")"
   ],
   "metadata": {
    "collapsed": false,
    "pycharm": {
     "name": "#%%\n"
    }
   }
  },
  {
   "cell_type": "code",
   "execution_count": 3,
   "outputs": [
    {
     "name": "stderr",
     "output_type": "stream",
     "text": [
      "/home/paavo/Desktop/Python3/P2PAnalyzer/src/tx_analyzer/bitquery.py:63: FutureWarning: The frame.append method is deprecated and will be removed from pandas in a future version. Use pandas.concat instead.\n",
      "  self._df = self._df.append(item, ignore_index=True)\n",
      "/home/paavo/Desktop/Python3/P2PAnalyzer/src/tx_analyzer/bitquery.py:63: FutureWarning: The frame.append method is deprecated and will be removed from pandas in a future version. Use pandas.concat instead.\n",
      "  self._df = self._df.append(item, ignore_index=True)\n",
      "/home/paavo/Desktop/Python3/P2PAnalyzer/src/tx_analyzer/bitquery.py:63: FutureWarning: The frame.append method is deprecated and will be removed from pandas in a future version. Use pandas.concat instead.\n",
      "  self._df = self._df.append(item, ignore_index=True)\n",
      "/home/paavo/Desktop/Python3/P2PAnalyzer/src/tx_analyzer/bitquery.py:63: FutureWarning: The frame.append method is deprecated and will be removed from pandas in a future version. Use pandas.concat instead.\n",
      "  self._df = self._df.append(item, ignore_index=True)\n",
      "/home/paavo/Desktop/Python3/P2PAnalyzer/src/tx_analyzer/bitquery.py:63: FutureWarning: The frame.append method is deprecated and will be removed from pandas in a future version. Use pandas.concat instead.\n",
      "  self._df = self._df.append(item, ignore_index=True)\n",
      "/home/paavo/Desktop/Python3/P2PAnalyzer/src/tx_analyzer/bitquery.py:63: FutureWarning: The frame.append method is deprecated and will be removed from pandas in a future version. Use pandas.concat instead.\n",
      "  self._df = self._df.append(item, ignore_index=True)\n",
      "/home/paavo/Desktop/Python3/P2PAnalyzer/src/tx_analyzer/bitquery.py:63: FutureWarning: The frame.append method is deprecated and will be removed from pandas in a future version. Use pandas.concat instead.\n",
      "  self._df = self._df.append(item, ignore_index=True)\n",
      "/home/paavo/Desktop/Python3/P2PAnalyzer/src/tx_analyzer/bitquery.py:63: FutureWarning: The frame.append method is deprecated and will be removed from pandas in a future version. Use pandas.concat instead.\n",
      "  self._df = self._df.append(item, ignore_index=True)\n",
      "/home/paavo/Desktop/Python3/P2PAnalyzer/src/tx_analyzer/bitquery.py:63: FutureWarning: The frame.append method is deprecated and will be removed from pandas in a future version. Use pandas.concat instead.\n",
      "  self._df = self._df.append(item, ignore_index=True)\n",
      "/home/paavo/Desktop/Python3/P2PAnalyzer/src/tx_analyzer/bitquery.py:63: FutureWarning: The frame.append method is deprecated and will be removed from pandas in a future version. Use pandas.concat instead.\n",
      "  self._df = self._df.append(item, ignore_index=True)\n",
      "/home/paavo/Desktop/Python3/P2PAnalyzer/src/tx_analyzer/bitquery.py:63: FutureWarning: The frame.append method is deprecated and will be removed from pandas in a future version. Use pandas.concat instead.\n",
      "  self._df = self._df.append(item, ignore_index=True)\n",
      "/home/paavo/Desktop/Python3/P2PAnalyzer/src/tx_analyzer/bitquery.py:63: FutureWarning: The frame.append method is deprecated and will be removed from pandas in a future version. Use pandas.concat instead.\n",
      "  self._df = self._df.append(item, ignore_index=True)\n",
      "/home/paavo/Desktop/Python3/P2PAnalyzer/src/tx_analyzer/bitquery.py:63: FutureWarning: The frame.append method is deprecated and will be removed from pandas in a future version. Use pandas.concat instead.\n",
      "  self._df = self._df.append(item, ignore_index=True)\n",
      "/home/paavo/Desktop/Python3/P2PAnalyzer/src/tx_analyzer/bitquery.py:63: FutureWarning: The frame.append method is deprecated and will be removed from pandas in a future version. Use pandas.concat instead.\n",
      "  self._df = self._df.append(item, ignore_index=True)\n",
      "/home/paavo/Desktop/Python3/P2PAnalyzer/src/tx_analyzer/bitquery.py:63: FutureWarning: The frame.append method is deprecated and will be removed from pandas in a future version. Use pandas.concat instead.\n",
      "  self._df = self._df.append(item, ignore_index=True)\n",
      "/home/paavo/Desktop/Python3/P2PAnalyzer/src/tx_analyzer/bitquery.py:63: FutureWarning: The frame.append method is deprecated and will be removed from pandas in a future version. Use pandas.concat instead.\n",
      "  self._df = self._df.append(item, ignore_index=True)\n",
      "/home/paavo/Desktop/Python3/P2PAnalyzer/src/tx_analyzer/bitquery.py:63: FutureWarning: The frame.append method is deprecated and will be removed from pandas in a future version. Use pandas.concat instead.\n",
      "  self._df = self._df.append(item, ignore_index=True)\n",
      "/home/paavo/Desktop/Python3/P2PAnalyzer/src/tx_analyzer/bitquery.py:63: FutureWarning: The frame.append method is deprecated and will be removed from pandas in a future version. Use pandas.concat instead.\n",
      "  self._df = self._df.append(item, ignore_index=True)\n",
      "/home/paavo/Desktop/Python3/P2PAnalyzer/src/tx_analyzer/bitquery.py:63: FutureWarning: The frame.append method is deprecated and will be removed from pandas in a future version. Use pandas.concat instead.\n",
      "  self._df = self._df.append(item, ignore_index=True)\n",
      "/home/paavo/Desktop/Python3/P2PAnalyzer/src/tx_analyzer/bitquery.py:63: FutureWarning: The frame.append method is deprecated and will be removed from pandas in a future version. Use pandas.concat instead.\n",
      "  self._df = self._df.append(item, ignore_index=True)\n",
      "/home/paavo/Desktop/Python3/P2PAnalyzer/src/tx_analyzer/bitquery.py:63: FutureWarning: The frame.append method is deprecated and will be removed from pandas in a future version. Use pandas.concat instead.\n",
      "  self._df = self._df.append(item, ignore_index=True)\n",
      "/home/paavo/Desktop/Python3/P2PAnalyzer/src/tx_analyzer/bitquery.py:63: FutureWarning: The frame.append method is deprecated and will be removed from pandas in a future version. Use pandas.concat instead.\n",
      "  self._df = self._df.append(item, ignore_index=True)\n",
      "/home/paavo/Desktop/Python3/P2PAnalyzer/src/tx_analyzer/bitquery.py:63: FutureWarning: The frame.append method is deprecated and will be removed from pandas in a future version. Use pandas.concat instead.\n",
      "  self._df = self._df.append(item, ignore_index=True)\n",
      "/home/paavo/Desktop/Python3/P2PAnalyzer/src/tx_analyzer/bitquery.py:63: FutureWarning: The frame.append method is deprecated and will be removed from pandas in a future version. Use pandas.concat instead.\n",
      "  self._df = self._df.append(item, ignore_index=True)\n",
      "/home/paavo/Desktop/Python3/P2PAnalyzer/src/tx_analyzer/bitquery.py:63: FutureWarning: The frame.append method is deprecated and will be removed from pandas in a future version. Use pandas.concat instead.\n",
      "  self._df = self._df.append(item, ignore_index=True)\n",
      "/home/paavo/Desktop/Python3/P2PAnalyzer/src/tx_analyzer/bitquery.py:63: FutureWarning: The frame.append method is deprecated and will be removed from pandas in a future version. Use pandas.concat instead.\n",
      "  self._df = self._df.append(item, ignore_index=True)\n",
      "/home/paavo/Desktop/Python3/P2PAnalyzer/src/tx_analyzer/bitquery.py:63: FutureWarning: The frame.append method is deprecated and will be removed from pandas in a future version. Use pandas.concat instead.\n",
      "  self._df = self._df.append(item, ignore_index=True)\n",
      "/home/paavo/Desktop/Python3/P2PAnalyzer/src/tx_analyzer/bitquery.py:63: FutureWarning: The frame.append method is deprecated and will be removed from pandas in a future version. Use pandas.concat instead.\n",
      "  self._df = self._df.append(item, ignore_index=True)\n",
      "/home/paavo/Desktop/Python3/P2PAnalyzer/src/tx_analyzer/bitquery.py:63: FutureWarning: The frame.append method is deprecated and will be removed from pandas in a future version. Use pandas.concat instead.\n",
      "  self._df = self._df.append(item, ignore_index=True)\n",
      "/home/paavo/Desktop/Python3/P2PAnalyzer/src/tx_analyzer/bitquery.py:63: FutureWarning: The frame.append method is deprecated and will be removed from pandas in a future version. Use pandas.concat instead.\n",
      "  self._df = self._df.append(item, ignore_index=True)\n",
      "/home/paavo/Desktop/Python3/P2PAnalyzer/src/tx_analyzer/bitquery.py:63: FutureWarning: The frame.append method is deprecated and will be removed from pandas in a future version. Use pandas.concat instead.\n",
      "  self._df = self._df.append(item, ignore_index=True)\n",
      "/home/paavo/Desktop/Python3/P2PAnalyzer/src/tx_analyzer/bitquery.py:63: FutureWarning: The frame.append method is deprecated and will be removed from pandas in a future version. Use pandas.concat instead.\n",
      "  self._df = self._df.append(item, ignore_index=True)\n",
      "/home/paavo/Desktop/Python3/P2PAnalyzer/src/tx_analyzer/bitquery.py:63: FutureWarning: The frame.append method is deprecated and will be removed from pandas in a future version. Use pandas.concat instead.\n",
      "  self._df = self._df.append(item, ignore_index=True)\n",
      "/home/paavo/Desktop/Python3/P2PAnalyzer/src/tx_analyzer/bitquery.py:63: FutureWarning: The frame.append method is deprecated and will be removed from pandas in a future version. Use pandas.concat instead.\n",
      "  self._df = self._df.append(item, ignore_index=True)\n",
      "/home/paavo/Desktop/Python3/P2PAnalyzer/src/tx_analyzer/bitquery.py:63: FutureWarning: The frame.append method is deprecated and will be removed from pandas in a future version. Use pandas.concat instead.\n",
      "  self._df = self._df.append(item, ignore_index=True)\n"
     ]
    },
    {
     "data": {
      "text/plain": "                                       Address isToken       Cluster  \\\n0   0x41671ba1abcba387b9b2b752c205e22e916be6e3   False             0   \n1   0xbd82a0c250608543b8cacfd4f0e4438438698df6   False             0   \n2   0x2a8facc9d49fbc3ecff569847833c380a13418a8   False             0   \n3   0xafa40da6a373ec4bbfddaf2e695f3014af5376c5   False             0   \n4   0xc4e15973e6ff2a35cc804c2cf9d2a1b817a8b40f    True             0   \n5   0x6def55d2e18486b9ddfaa075bc4e4ee0b28c1545    True             0   \n6   0x5c7adb3fd0df2d1822a36922dd941e16d2bf4e51   False             0   \n7   0x93054188d876f558f4a66b2ef1d97d16edf0895b    True             0   \n8   0xeb4c2781e4eba804ce9a9803c67d0893436bb27d    True             0   \n9   0xe2d6ccac3ee3a21abf7bedbe2e107ffc0c037e80   False             0   \n10  0x49849c98ae39fff122806c06791fa73784fb3675    True             0   \n11  0x63cf44b2548e4493fd099222a1ec79f3344d9682   False             0   \n12  0x6354e79f21b56c11f48bcd7c451be456d7102a36   False             0   \n13  0x444b860128b7bf8c0e864bdc3b7a36a940db7d88   False             0   \n14  0x8b60386a978dfc3241e9112db3ea009331838846   False             0   \n15  0xb1f2cdec61db658f091671f5f199635aef202cac   False             0   \n16  0xd04c48a53c111300ad41190d63681ed3dad998ec    True             0   \n17  0x7fc77b5c7614e1533320ea6ddc2eb61fa00a9714    True             0   \n18  0x075b1bb99792c9e1041ba13afef80c91a1e70fb3    True             0   \n19  0x3efc97a8e23f463e71bf28eb19690d097797eb17   False             0   \n20  0xe3c63d747aca7fb9e9404a09520d7a2a4fefeeaa   False             0   \n21  0x705350c4bcd35c9441419ddd5d2f097d7a55410f   False             0   \n22  0xb9d076fde463dbc9f915e5392f807315bf940334    True             0   \n23  0xc25099792e9349c7dd09759744ea681c7de2cb66    True             0   \n24  0x64eda51d3ad40d56b9dfc5554e06f94e1dd786fd    True             0   \n25  0xe2fa197eaa5c726426003074147a08beaa59403b   False             0   \n26  0x1989c39bc167678eac6e9ade5d803cc3523011cf   False             0   \n27  0x6828bcf74279ee32f2723ec536c22c51eed383c6   False             0   \n28  0x825218bed8be0b30be39475755acee0250c50627   False             0   \n29  0xa9499b50c4a74000687435a895b55974f079ecaa   False             0   \n30  0x4b92d19c11435614cd49af1b589001b7c08cd4d5    True             0   \n31  0xc0a972a3cf8e52167589694d135abb66409f9b30   False             0   \n32  0xa696a63cc78dffa1a63e9e50587c197387ff6c7e    True             0   \n33  0x2260fac5e5542a773aa44fbcfedf7c193bc2c599    True  Simple Token   \n34  0xd765bce319b143c7ca0eb384d7db2d771152df6e   False        Sender   \n\n                                       CodeFor  \n0                                               \n1   0x41671ba1abcba387b9b2b752c205e22e916be6e3  \n2                                               \n3   0x2a8facc9d49fbc3ecff569847833c380a13418a8  \n4                                               \n5                                               \n6   0x6def55d2e18486b9ddfaa075bc4e4ee0b28c1545  \n7                                               \n8   0x93054188d876f558f4a66b2ef1d97d16edf0895b  \n9   0xeb4c2781e4eba804ce9a9803c67d0893436bb27d  \n10                                              \n11                                              \n12  0x63cf44b2548e4493fd099222a1ec79f3344d9682  \n13                                              \n14  0x444b860128b7bf8c0e864bdc3b7a36a940db7d88  \n15                                              \n16                                              \n17  0xc25099792e9349c7dd09759744ea681c7de2cb66  \n18                                              \n19                                              \n20  0x3efc97a8e23f463e71bf28eb19690d097797eb17  \n21                                              \n22                                              \n23                                              \n24                                              \n25                                              \n26  0xe2fa197eaa5c726426003074147a08beaa59403b  \n27                                              \n28                                              \n29  0x825218bed8be0b30be39475755acee0250c50627  \n30                                              \n31  0x4b92d19c11435614cd49af1b589001b7c08cd4d5  \n32                                              \n33  0xa696a63cc78dffa1a63e9e50587c197387ff6c7e  \n34                                              ",
      "text/html": "<div>\n<style scoped>\n    .dataframe tbody tr th:only-of-type {\n        vertical-align: middle;\n    }\n\n    .dataframe tbody tr th {\n        vertical-align: top;\n    }\n\n    .dataframe thead th {\n        text-align: right;\n    }\n</style>\n<table border=\"1\" class=\"dataframe\">\n  <thead>\n    <tr style=\"text-align: right;\">\n      <th></th>\n      <th>Address</th>\n      <th>isToken</th>\n      <th>Cluster</th>\n      <th>CodeFor</th>\n    </tr>\n  </thead>\n  <tbody>\n    <tr>\n      <th>0</th>\n      <td>0x41671ba1abcba387b9b2b752c205e22e916be6e3</td>\n      <td>False</td>\n      <td>0</td>\n      <td></td>\n    </tr>\n    <tr>\n      <th>1</th>\n      <td>0xbd82a0c250608543b8cacfd4f0e4438438698df6</td>\n      <td>False</td>\n      <td>0</td>\n      <td>0x41671ba1abcba387b9b2b752c205e22e916be6e3</td>\n    </tr>\n    <tr>\n      <th>2</th>\n      <td>0x2a8facc9d49fbc3ecff569847833c380a13418a8</td>\n      <td>False</td>\n      <td>0</td>\n      <td></td>\n    </tr>\n    <tr>\n      <th>3</th>\n      <td>0xafa40da6a373ec4bbfddaf2e695f3014af5376c5</td>\n      <td>False</td>\n      <td>0</td>\n      <td>0x2a8facc9d49fbc3ecff569847833c380a13418a8</td>\n    </tr>\n    <tr>\n      <th>4</th>\n      <td>0xc4e15973e6ff2a35cc804c2cf9d2a1b817a8b40f</td>\n      <td>True</td>\n      <td>0</td>\n      <td></td>\n    </tr>\n    <tr>\n      <th>5</th>\n      <td>0x6def55d2e18486b9ddfaa075bc4e4ee0b28c1545</td>\n      <td>True</td>\n      <td>0</td>\n      <td></td>\n    </tr>\n    <tr>\n      <th>6</th>\n      <td>0x5c7adb3fd0df2d1822a36922dd941e16d2bf4e51</td>\n      <td>False</td>\n      <td>0</td>\n      <td>0x6def55d2e18486b9ddfaa075bc4e4ee0b28c1545</td>\n    </tr>\n    <tr>\n      <th>7</th>\n      <td>0x93054188d876f558f4a66b2ef1d97d16edf0895b</td>\n      <td>True</td>\n      <td>0</td>\n      <td></td>\n    </tr>\n    <tr>\n      <th>8</th>\n      <td>0xeb4c2781e4eba804ce9a9803c67d0893436bb27d</td>\n      <td>True</td>\n      <td>0</td>\n      <td>0x93054188d876f558f4a66b2ef1d97d16edf0895b</td>\n    </tr>\n    <tr>\n      <th>9</th>\n      <td>0xe2d6ccac3ee3a21abf7bedbe2e107ffc0c037e80</td>\n      <td>False</td>\n      <td>0</td>\n      <td>0xeb4c2781e4eba804ce9a9803c67d0893436bb27d</td>\n    </tr>\n    <tr>\n      <th>10</th>\n      <td>0x49849c98ae39fff122806c06791fa73784fb3675</td>\n      <td>True</td>\n      <td>0</td>\n      <td></td>\n    </tr>\n    <tr>\n      <th>11</th>\n      <td>0x63cf44b2548e4493fd099222a1ec79f3344d9682</td>\n      <td>False</td>\n      <td>0</td>\n      <td></td>\n    </tr>\n    <tr>\n      <th>12</th>\n      <td>0x6354e79f21b56c11f48bcd7c451be456d7102a36</td>\n      <td>False</td>\n      <td>0</td>\n      <td>0x63cf44b2548e4493fd099222a1ec79f3344d9682</td>\n    </tr>\n    <tr>\n      <th>13</th>\n      <td>0x444b860128b7bf8c0e864bdc3b7a36a940db7d88</td>\n      <td>False</td>\n      <td>0</td>\n      <td></td>\n    </tr>\n    <tr>\n      <th>14</th>\n      <td>0x8b60386a978dfc3241e9112db3ea009331838846</td>\n      <td>False</td>\n      <td>0</td>\n      <td>0x444b860128b7bf8c0e864bdc3b7a36a940db7d88</td>\n    </tr>\n    <tr>\n      <th>15</th>\n      <td>0xb1f2cdec61db658f091671f5f199635aef202cac</td>\n      <td>False</td>\n      <td>0</td>\n      <td></td>\n    </tr>\n    <tr>\n      <th>16</th>\n      <td>0xd04c48a53c111300ad41190d63681ed3dad998ec</td>\n      <td>True</td>\n      <td>0</td>\n      <td></td>\n    </tr>\n    <tr>\n      <th>17</th>\n      <td>0x7fc77b5c7614e1533320ea6ddc2eb61fa00a9714</td>\n      <td>True</td>\n      <td>0</td>\n      <td>0xc25099792e9349c7dd09759744ea681c7de2cb66</td>\n    </tr>\n    <tr>\n      <th>18</th>\n      <td>0x075b1bb99792c9e1041ba13afef80c91a1e70fb3</td>\n      <td>True</td>\n      <td>0</td>\n      <td></td>\n    </tr>\n    <tr>\n      <th>19</th>\n      <td>0x3efc97a8e23f463e71bf28eb19690d097797eb17</td>\n      <td>False</td>\n      <td>0</td>\n      <td></td>\n    </tr>\n    <tr>\n      <th>20</th>\n      <td>0xe3c63d747aca7fb9e9404a09520d7a2a4fefeeaa</td>\n      <td>False</td>\n      <td>0</td>\n      <td>0x3efc97a8e23f463e71bf28eb19690d097797eb17</td>\n    </tr>\n    <tr>\n      <th>21</th>\n      <td>0x705350c4bcd35c9441419ddd5d2f097d7a55410f</td>\n      <td>False</td>\n      <td>0</td>\n      <td></td>\n    </tr>\n    <tr>\n      <th>22</th>\n      <td>0xb9d076fde463dbc9f915e5392f807315bf940334</td>\n      <td>True</td>\n      <td>0</td>\n      <td></td>\n    </tr>\n    <tr>\n      <th>23</th>\n      <td>0xc25099792e9349c7dd09759744ea681c7de2cb66</td>\n      <td>True</td>\n      <td>0</td>\n      <td></td>\n    </tr>\n    <tr>\n      <th>24</th>\n      <td>0x64eda51d3ad40d56b9dfc5554e06f94e1dd786fd</td>\n      <td>True</td>\n      <td>0</td>\n      <td></td>\n    </tr>\n    <tr>\n      <th>25</th>\n      <td>0xe2fa197eaa5c726426003074147a08beaa59403b</td>\n      <td>False</td>\n      <td>0</td>\n      <td></td>\n    </tr>\n    <tr>\n      <th>26</th>\n      <td>0x1989c39bc167678eac6e9ade5d803cc3523011cf</td>\n      <td>False</td>\n      <td>0</td>\n      <td>0xe2fa197eaa5c726426003074147a08beaa59403b</td>\n    </tr>\n    <tr>\n      <th>27</th>\n      <td>0x6828bcf74279ee32f2723ec536c22c51eed383c6</td>\n      <td>False</td>\n      <td>0</td>\n      <td></td>\n    </tr>\n    <tr>\n      <th>28</th>\n      <td>0x825218bed8be0b30be39475755acee0250c50627</td>\n      <td>False</td>\n      <td>0</td>\n      <td></td>\n    </tr>\n    <tr>\n      <th>29</th>\n      <td>0xa9499b50c4a74000687435a895b55974f079ecaa</td>\n      <td>False</td>\n      <td>0</td>\n      <td>0x825218bed8be0b30be39475755acee0250c50627</td>\n    </tr>\n    <tr>\n      <th>30</th>\n      <td>0x4b92d19c11435614cd49af1b589001b7c08cd4d5</td>\n      <td>True</td>\n      <td>0</td>\n      <td></td>\n    </tr>\n    <tr>\n      <th>31</th>\n      <td>0xc0a972a3cf8e52167589694d135abb66409f9b30</td>\n      <td>False</td>\n      <td>0</td>\n      <td>0x4b92d19c11435614cd49af1b589001b7c08cd4d5</td>\n    </tr>\n    <tr>\n      <th>32</th>\n      <td>0xa696a63cc78dffa1a63e9e50587c197387ff6c7e</td>\n      <td>True</td>\n      <td>0</td>\n      <td></td>\n    </tr>\n    <tr>\n      <th>33</th>\n      <td>0x2260fac5e5542a773aa44fbcfedf7c193bc2c599</td>\n      <td>True</td>\n      <td>Simple Token</td>\n      <td>0xa696a63cc78dffa1a63e9e50587c197387ff6c7e</td>\n    </tr>\n    <tr>\n      <th>34</th>\n      <td>0xd765bce319b143c7ca0eb384d7db2d771152df6e</td>\n      <td>False</td>\n      <td>Sender</td>\n      <td></td>\n    </tr>\n  </tbody>\n</table>\n</div>"
     },
     "execution_count": 3,
     "metadata": {},
     "output_type": "execute_result"
    }
   ],
   "source": [
    "df = bq.to_pandas()\n",
    "df"
   ],
   "metadata": {
    "collapsed": false,
    "pycharm": {
     "name": "#%%\n"
    }
   }
  },
  {
   "cell_type": "code",
   "execution_count": 4,
   "outputs": [
    {
     "name": "stdout",
     "output_type": "stream",
     "text": [
      "                                       Address isToken       Cluster  \\\n",
      "0   0x41671ba1abcba387b9b2b752c205e22e916be6e3   False             0   \n",
      "1   0xbd82a0c250608543b8cacfd4f0e4438438698df6   False             0   \n",
      "2   0x2a8facc9d49fbc3ecff569847833c380a13418a8   False             0   \n",
      "3   0xafa40da6a373ec4bbfddaf2e695f3014af5376c5   False             0   \n",
      "4   0xc4e15973e6ff2a35cc804c2cf9d2a1b817a8b40f    True             0   \n",
      "5   0x6def55d2e18486b9ddfaa075bc4e4ee0b28c1545    True             0   \n",
      "6   0x5c7adb3fd0df2d1822a36922dd941e16d2bf4e51   False             0   \n",
      "7   0x93054188d876f558f4a66b2ef1d97d16edf0895b    True             0   \n",
      "8   0xeb4c2781e4eba804ce9a9803c67d0893436bb27d    True             0   \n",
      "9   0xe2d6ccac3ee3a21abf7bedbe2e107ffc0c037e80   False             0   \n",
      "10  0x49849c98ae39fff122806c06791fa73784fb3675    True             0   \n",
      "11  0x63cf44b2548e4493fd099222a1ec79f3344d9682   False             0   \n",
      "12  0x6354e79f21b56c11f48bcd7c451be456d7102a36   False             0   \n",
      "13  0x444b860128b7bf8c0e864bdc3b7a36a940db7d88   False             0   \n",
      "14  0x8b60386a978dfc3241e9112db3ea009331838846   False             0   \n",
      "15  0xb1f2cdec61db658f091671f5f199635aef202cac   False             0   \n",
      "16  0xd04c48a53c111300ad41190d63681ed3dad998ec    True             0   \n",
      "17  0x7fc77b5c7614e1533320ea6ddc2eb61fa00a9714    True             0   \n",
      "18  0x075b1bb99792c9e1041ba13afef80c91a1e70fb3    True             0   \n",
      "19  0x3efc97a8e23f463e71bf28eb19690d097797eb17   False             0   \n",
      "20  0xe3c63d747aca7fb9e9404a09520d7a2a4fefeeaa   False             0   \n",
      "21  0x705350c4bcd35c9441419ddd5d2f097d7a55410f   False             0   \n",
      "22  0xb9d076fde463dbc9f915e5392f807315bf940334    True             0   \n",
      "23  0xc25099792e9349c7dd09759744ea681c7de2cb66    True             0   \n",
      "24  0x64eda51d3ad40d56b9dfc5554e06f94e1dd786fd    True             0   \n",
      "25  0xe2fa197eaa5c726426003074147a08beaa59403b   False             0   \n",
      "26  0x1989c39bc167678eac6e9ade5d803cc3523011cf   False             0   \n",
      "27  0x6828bcf74279ee32f2723ec536c22c51eed383c6   False             0   \n",
      "28  0x825218bed8be0b30be39475755acee0250c50627   False             0   \n",
      "29  0xa9499b50c4a74000687435a895b55974f079ecaa   False             0   \n",
      "30  0x4b92d19c11435614cd49af1b589001b7c08cd4d5    True             0   \n",
      "31  0xc0a972a3cf8e52167589694d135abb66409f9b30   False             0   \n",
      "32  0xa696a63cc78dffa1a63e9e50587c197387ff6c7e    True             0   \n",
      "33  0x2260fac5e5542a773aa44fbcfedf7c193bc2c599    True  Simple Token   \n",
      "34  0xd765bce319b143c7ca0eb384d7db2d771152df6e   False        Sender   \n",
      "\n",
      "                                       CodeFor  \n",
      "0                                               \n",
      "1   0x41671ba1abcba387b9b2b752c205e22e916be6e3  \n",
      "2                                               \n",
      "3   0x2a8facc9d49fbc3ecff569847833c380a13418a8  \n",
      "4                                               \n",
      "5                                               \n",
      "6   0x6def55d2e18486b9ddfaa075bc4e4ee0b28c1545  \n",
      "7                                               \n",
      "8   0x93054188d876f558f4a66b2ef1d97d16edf0895b  \n",
      "9   0xeb4c2781e4eba804ce9a9803c67d0893436bb27d  \n",
      "10                                              \n",
      "11                                              \n",
      "12  0x63cf44b2548e4493fd099222a1ec79f3344d9682  \n",
      "13                                              \n",
      "14  0x444b860128b7bf8c0e864bdc3b7a36a940db7d88  \n",
      "15                                              \n",
      "16                                              \n",
      "17  0xc25099792e9349c7dd09759744ea681c7de2cb66  \n",
      "18                                              \n",
      "19                                              \n",
      "20  0x3efc97a8e23f463e71bf28eb19690d097797eb17  \n",
      "21                                              \n",
      "22                                              \n",
      "23                                              \n",
      "24                                              \n",
      "25                                              \n",
      "26  0xe2fa197eaa5c726426003074147a08beaa59403b  \n",
      "27                                              \n",
      "28                                              \n",
      "29  0x825218bed8be0b30be39475755acee0250c50627  \n",
      "30                                              \n",
      "31  0x4b92d19c11435614cd49af1b589001b7c08cd4d5  \n",
      "32                                              \n",
      "33  0xa696a63cc78dffa1a63e9e50587c197387ff6c7e  \n",
      "34                                              \n"
     ]
    }
   ],
   "source": [
    "print(df)"
   ],
   "metadata": {
    "collapsed": false,
    "pycharm": {
     "name": "#%%\n"
    }
   }
  }
 ],
 "metadata": {
  "kernelspec": {
   "display_name": "Python 3",
   "language": "python",
   "name": "python3"
  },
  "language_info": {
   "codemirror_mode": {
    "name": "ipython",
    "version": 2
   },
   "file_extension": ".py",
   "mimetype": "text/x-python",
   "name": "python",
   "nbconvert_exporter": "python",
   "pygments_lexer": "ipython2",
   "version": "2.7.6"
  }
 },
 "nbformat": 4,
 "nbformat_minor": 0
}