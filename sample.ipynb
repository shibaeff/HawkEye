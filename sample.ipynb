{
 "cells": [
  {
   "cell_type": "code",
   "execution_count": 2,
   "outputs": [],
   "source": [
    "from src.tx_analyzer import *\n",
    "bq = BitQuery()"
   ],
   "metadata": {
    "collapsed": false,
    "pycharm": {
     "name": "#%%\n"
    }
   }
  },
  {
   "cell_type": "code",
   "execution_count": 6,
   "outputs": [
    {
     "data": {
      "text/plain": "{'0x0fc584529a2aefa997697fafacba5831fac0c22d': {'Address': '0x0fc584529a2aefa997697fafacba5831fac0c22d',\n  'isToken': False,\n  'Cluster': '0',\n  'CodeFor': ''},\n '0xc02aaa39b223fe8d0a0e5c4f27ead9083c756cc2': {'Address': '0xc02aaa39b223fe8d0a0e5c4f27ead9083c756cc2',\n  'isToken': True,\n  'Cluster': 'Simple Token',\n  'CodeFor': ''},\n '0xbe86f647b167567525ccaafcd6f881f1ee558216': {'Address': '0xbe86f647b167567525ccaafcd6f881f1ee558216',\n  'isToken': False,\n  'Cluster': '0',\n  'CodeFor': '0xe7f4c89032a2488d327323548ab0459676269331'},\n '0x612447e8d0bdb922059ce048bb5a7cef9e017812': {'Address': '0x612447e8d0bdb922059ce048bb5a7cef9e017812',\n  'isToken': False,\n  'Cluster': '0',\n  'CodeFor': '0xbe86f647b167567525ccaafcd6f881f1ee558216'},\n '0xd9e1ce17f2641f24ae83637ab66a2cca9c378b9f': {'Address': '0xd9e1ce17f2641f24ae83637ab66a2cca9c378b9f',\n  'isToken': False,\n  'Cluster': '0',\n  'CodeFor': ''},\n '0xd9f21104a0ab4bb2bc70774d4472b3c885fd022c': {'Address': '0xd9f21104a0ab4bb2bc70774d4472b3c885fd022c',\n  'isToken': True,\n  'Cluster': '0',\n  'CodeFor': ''},\n '0xe7f4c89032a2488d327323548ab0459676269331': {'Address': '0xe7f4c89032a2488d327323548ab0459676269331',\n  'isToken': True,\n  'Cluster': '0',\n  'CodeFor': ''},\n '0x73d2ff81fcea9832fc9ee90521abde1150f6b52a': {'Address': '0x73d2ff81fcea9832fc9ee90521abde1150f6b52a',\n  'isToken': False,\n  'Cluster': '0',\n  'CodeFor': ''},\n '0xfd8a76dc204e461db5da4f38687adc9cc5ae4a86': {'Address': '0xfd8a76dc204e461db5da4f38687adc9cc5ae4a86',\n  'isToken': False,\n  'Cluster': '0',\n  'CodeFor': ''},\n '0x0ef372b6a2f8bb030760261b858b6c50e92d1680': {'Address': '0x0ef372b6a2f8bb030760261b858b6c50e92d1680',\n  'isToken': False,\n  'Cluster': '0',\n  'CodeFor': '0xfd8a76dc204e461db5da4f38687adc9cc5ae4a86'},\n '0x3e135c3e981fae3383a5ae0d323860a34cfab893': {'Address': '0x3e135c3e981fae3383a5ae0d323860a34cfab893',\n  'isToken': False,\n  'Cluster': '0',\n  'CodeFor': '0xb91bca4c6a607448a093803b3b2a9a4ed3e9f71e'},\n '0x72012ada1d0a9e9cba22b3f13f3bc52b57ed6b66': {'Address': '0x72012ada1d0a9e9cba22b3f13f3bc52b57ed6b66',\n  'isToken': False,\n  'Cluster': '0',\n  'CodeFor': '0x3e135c3e981fae3383a5ae0d323860a34cfab893'},\n '0xb91bca4c6a607448a093803b3b2a9a4ed3e9f71e': {'Address': '0xb91bca4c6a607448a093803b3b2a9a4ed3e9f71e',\n  'isToken': True,\n  'Cluster': '0',\n  'CodeFor': ''},\n '0xaddc3e67a500f7037cd622b11df291a6351bfb64': {'Address': '0xaddc3e67a500f7037cd622b11df291a6351bfb64',\n  'isToken': False,\n  'Cluster': '0',\n  'CodeFor': ''},\n '0x688c3e4658b5367da06fd629e41879beab538e37': {'Address': '0x688c3e4658b5367da06fd629e41879beab538e37',\n  'isToken': False,\n  'Cluster': '0',\n  'CodeFor': ''},\n '0xf7a232044c586d658f826e1932c37cad770b0687': {'Address': '0xf7a232044c586d658f826e1932c37cad770b0687',\n  'isToken': False,\n  'Cluster': '0',\n  'CodeFor': '0x688c3e4658b5367da06fd629e41879beab538e37'},\n '0x77655099f72484fa7d8cd701112c129b35b6ca6a': {'Address': '0x77655099f72484fa7d8cd701112c129b35b6ca6a',\n  'isToken': True,\n  'Cluster': '0',\n  'CodeFor': ''},\n '0xc90b47731f9cd4db0df36c1e59fdca1fe9806475': {'Address': '0xc90b47731f9cd4db0df36c1e59fdca1fe9806475',\n  'isToken': False,\n  'Cluster': '0',\n  'CodeFor': '0x77655099f72484fa7d8cd701112c129b35b6ca6a'},\n '0x2216d47494e516d8206b70fca8585820ed3c4946': {'Address': '0x2216d47494e516d8206b70fca8585820ed3c4946',\n  'isToken': True,\n  'Cluster': '0',\n  'CodeFor': ''},\n '0xf5ef6bcbc1b890e076ab2a68882c72099db2aa42': {'Address': '0xf5ef6bcbc1b890e076ab2a68882c72099db2aa42',\n  'Cluster': 'Sender',\n  'isToken': False,\n  'CodeFor': ''}}"
     },
     "execution_count": 6,
     "metadata": {},
     "output_type": "execute_result"
    }
   ],
   "source": [
    "# bq.run_query()\n",
    "bq.parse(\"0xade227c3ad59395cf7a15ceb56085a77c61a29216858fc789d8413ef929a5fbe\")"
   ],
   "metadata": {
    "collapsed": false,
    "pycharm": {
     "name": "#%%\n"
    }
   }
  },
  {
   "cell_type": "code",
   "execution_count": 7,
   "outputs": [
    {
     "data": {
      "text/plain": "                                       Address isToken       Cluster  \\\n0   0x0fc584529a2aefa997697fafacba5831fac0c22d   False             0   \n1   0xc02aaa39b223fe8d0a0e5c4f27ead9083c756cc2    True  Simple Token   \n2   0xbe86f647b167567525ccaafcd6f881f1ee558216   False             0   \n3   0x612447e8d0bdb922059ce048bb5a7cef9e017812   False             0   \n4   0xd9e1ce17f2641f24ae83637ab66a2cca9c378b9f   False             0   \n5   0xd9f21104a0ab4bb2bc70774d4472b3c885fd022c    True             0   \n6   0xe7f4c89032a2488d327323548ab0459676269331    True             0   \n7   0x73d2ff81fcea9832fc9ee90521abde1150f6b52a   False             0   \n8   0xfd8a76dc204e461db5da4f38687adc9cc5ae4a86   False             0   \n9   0x0ef372b6a2f8bb030760261b858b6c50e92d1680   False             0   \n10  0x3e135c3e981fae3383a5ae0d323860a34cfab893   False             0   \n11  0x72012ada1d0a9e9cba22b3f13f3bc52b57ed6b66   False             0   \n12  0xb91bca4c6a607448a093803b3b2a9a4ed3e9f71e    True             0   \n13  0xaddc3e67a500f7037cd622b11df291a6351bfb64   False             0   \n14  0x688c3e4658b5367da06fd629e41879beab538e37   False             0   \n15  0xf7a232044c586d658f826e1932c37cad770b0687   False             0   \n16  0x77655099f72484fa7d8cd701112c129b35b6ca6a    True             0   \n17  0xc90b47731f9cd4db0df36c1e59fdca1fe9806475   False             0   \n18  0x2216d47494e516d8206b70fca8585820ed3c4946    True             0   \n19  0xf5ef6bcbc1b890e076ab2a68882c72099db2aa42   False        Sender   \n\n                                       CodeFor  \n0                                               \n1                                               \n2   0xe7f4c89032a2488d327323548ab0459676269331  \n3   0xbe86f647b167567525ccaafcd6f881f1ee558216  \n4                                               \n5                                               \n6                                               \n7                                               \n8                                               \n9   0xfd8a76dc204e461db5da4f38687adc9cc5ae4a86  \n10  0xb91bca4c6a607448a093803b3b2a9a4ed3e9f71e  \n11  0x3e135c3e981fae3383a5ae0d323860a34cfab893  \n12                                              \n13                                              \n14                                              \n15  0x688c3e4658b5367da06fd629e41879beab538e37  \n16                                              \n17  0x77655099f72484fa7d8cd701112c129b35b6ca6a  \n18                                              \n19                                              ",
      "text/html": "<div>\n<style scoped>\n    .dataframe tbody tr th:only-of-type {\n        vertical-align: middle;\n    }\n\n    .dataframe tbody tr th {\n        vertical-align: top;\n    }\n\n    .dataframe thead th {\n        text-align: right;\n    }\n</style>\n<table border=\"1\" class=\"dataframe\">\n  <thead>\n    <tr style=\"text-align: right;\">\n      <th></th>\n      <th>Address</th>\n      <th>isToken</th>\n      <th>Cluster</th>\n      <th>CodeFor</th>\n    </tr>\n  </thead>\n  <tbody>\n    <tr>\n      <th>0</th>\n      <td>0x0fc584529a2aefa997697fafacba5831fac0c22d</td>\n      <td>False</td>\n      <td>0</td>\n      <td></td>\n    </tr>\n    <tr>\n      <th>1</th>\n      <td>0xc02aaa39b223fe8d0a0e5c4f27ead9083c756cc2</td>\n      <td>True</td>\n      <td>Simple Token</td>\n      <td></td>\n    </tr>\n    <tr>\n      <th>2</th>\n      <td>0xbe86f647b167567525ccaafcd6f881f1ee558216</td>\n      <td>False</td>\n      <td>0</td>\n      <td>0xe7f4c89032a2488d327323548ab0459676269331</td>\n    </tr>\n    <tr>\n      <th>3</th>\n      <td>0x612447e8d0bdb922059ce048bb5a7cef9e017812</td>\n      <td>False</td>\n      <td>0</td>\n      <td>0xbe86f647b167567525ccaafcd6f881f1ee558216</td>\n    </tr>\n    <tr>\n      <th>4</th>\n      <td>0xd9e1ce17f2641f24ae83637ab66a2cca9c378b9f</td>\n      <td>False</td>\n      <td>0</td>\n      <td></td>\n    </tr>\n    <tr>\n      <th>5</th>\n      <td>0xd9f21104a0ab4bb2bc70774d4472b3c885fd022c</td>\n      <td>True</td>\n      <td>0</td>\n      <td></td>\n    </tr>\n    <tr>\n      <th>6</th>\n      <td>0xe7f4c89032a2488d327323548ab0459676269331</td>\n      <td>True</td>\n      <td>0</td>\n      <td></td>\n    </tr>\n    <tr>\n      <th>7</th>\n      <td>0x73d2ff81fcea9832fc9ee90521abde1150f6b52a</td>\n      <td>False</td>\n      <td>0</td>\n      <td></td>\n    </tr>\n    <tr>\n      <th>8</th>\n      <td>0xfd8a76dc204e461db5da4f38687adc9cc5ae4a86</td>\n      <td>False</td>\n      <td>0</td>\n      <td></td>\n    </tr>\n    <tr>\n      <th>9</th>\n      <td>0x0ef372b6a2f8bb030760261b858b6c50e92d1680</td>\n      <td>False</td>\n      <td>0</td>\n      <td>0xfd8a76dc204e461db5da4f38687adc9cc5ae4a86</td>\n    </tr>\n    <tr>\n      <th>10</th>\n      <td>0x3e135c3e981fae3383a5ae0d323860a34cfab893</td>\n      <td>False</td>\n      <td>0</td>\n      <td>0xb91bca4c6a607448a093803b3b2a9a4ed3e9f71e</td>\n    </tr>\n    <tr>\n      <th>11</th>\n      <td>0x72012ada1d0a9e9cba22b3f13f3bc52b57ed6b66</td>\n      <td>False</td>\n      <td>0</td>\n      <td>0x3e135c3e981fae3383a5ae0d323860a34cfab893</td>\n    </tr>\n    <tr>\n      <th>12</th>\n      <td>0xb91bca4c6a607448a093803b3b2a9a4ed3e9f71e</td>\n      <td>True</td>\n      <td>0</td>\n      <td></td>\n    </tr>\n    <tr>\n      <th>13</th>\n      <td>0xaddc3e67a500f7037cd622b11df291a6351bfb64</td>\n      <td>False</td>\n      <td>0</td>\n      <td></td>\n    </tr>\n    <tr>\n      <th>14</th>\n      <td>0x688c3e4658b5367da06fd629e41879beab538e37</td>\n      <td>False</td>\n      <td>0</td>\n      <td></td>\n    </tr>\n    <tr>\n      <th>15</th>\n      <td>0xf7a232044c586d658f826e1932c37cad770b0687</td>\n      <td>False</td>\n      <td>0</td>\n      <td>0x688c3e4658b5367da06fd629e41879beab538e37</td>\n    </tr>\n    <tr>\n      <th>16</th>\n      <td>0x77655099f72484fa7d8cd701112c129b35b6ca6a</td>\n      <td>True</td>\n      <td>0</td>\n      <td></td>\n    </tr>\n    <tr>\n      <th>17</th>\n      <td>0xc90b47731f9cd4db0df36c1e59fdca1fe9806475</td>\n      <td>False</td>\n      <td>0</td>\n      <td>0x77655099f72484fa7d8cd701112c129b35b6ca6a</td>\n    </tr>\n    <tr>\n      <th>18</th>\n      <td>0x2216d47494e516d8206b70fca8585820ed3c4946</td>\n      <td>True</td>\n      <td>0</td>\n      <td></td>\n    </tr>\n    <tr>\n      <th>19</th>\n      <td>0xf5ef6bcbc1b890e076ab2a68882c72099db2aa42</td>\n      <td>False</td>\n      <td>Sender</td>\n      <td></td>\n    </tr>\n  </tbody>\n</table>\n</div>"
     },
     "execution_count": 7,
     "metadata": {},
     "output_type": "execute_result"
    }
   ],
   "source": [
    "df = bq.to_pandas()\n",
    "df"
   ],
   "metadata": {
    "collapsed": false,
    "pycharm": {
     "name": "#%%\n"
    }
   }
  },
  {
   "cell_type": "code",
   "execution_count": 5,
   "outputs": [
    {
     "name": "stdout",
     "output_type": "stream",
     "text": [
      "                                       Address isToken       Cluster  \\\n",
      "0   0x41671ba1abcba387b9b2b752c205e22e916be6e3   False             0   \n",
      "1   0xbd82a0c250608543b8cacfd4f0e4438438698df6   False             0   \n",
      "2   0x2a8facc9d49fbc3ecff569847833c380a13418a8   False             0   \n",
      "3   0xafa40da6a373ec4bbfddaf2e695f3014af5376c5   False             0   \n",
      "4   0xc4e15973e6ff2a35cc804c2cf9d2a1b817a8b40f    True             0   \n",
      "5   0x6def55d2e18486b9ddfaa075bc4e4ee0b28c1545    True             0   \n",
      "6   0x5c7adb3fd0df2d1822a36922dd941e16d2bf4e51   False             0   \n",
      "7   0x93054188d876f558f4a66b2ef1d97d16edf0895b    True             0   \n",
      "8   0xeb4c2781e4eba804ce9a9803c67d0893436bb27d    True             0   \n",
      "9   0xe2d6ccac3ee3a21abf7bedbe2e107ffc0c037e80   False             0   \n",
      "10  0x49849c98ae39fff122806c06791fa73784fb3675    True             0   \n",
      "11  0x63cf44b2548e4493fd099222a1ec79f3344d9682   False             0   \n",
      "12  0x6354e79f21b56c11f48bcd7c451be456d7102a36   False             0   \n",
      "13  0x444b860128b7bf8c0e864bdc3b7a36a940db7d88   False             0   \n",
      "14  0x8b60386a978dfc3241e9112db3ea009331838846   False             0   \n",
      "15  0xb1f2cdec61db658f091671f5f199635aef202cac   False             0   \n",
      "16  0xd04c48a53c111300ad41190d63681ed3dad998ec    True             0   \n",
      "17  0x7fc77b5c7614e1533320ea6ddc2eb61fa00a9714    True             0   \n",
      "18  0x075b1bb99792c9e1041ba13afef80c91a1e70fb3    True             0   \n",
      "19  0x3efc97a8e23f463e71bf28eb19690d097797eb17   False             0   \n",
      "20  0xe3c63d747aca7fb9e9404a09520d7a2a4fefeeaa   False             0   \n",
      "21  0x705350c4bcd35c9441419ddd5d2f097d7a55410f   False             0   \n",
      "22  0xb9d076fde463dbc9f915e5392f807315bf940334    True             0   \n",
      "23  0xc25099792e9349c7dd09759744ea681c7de2cb66    True             0   \n",
      "24  0x64eda51d3ad40d56b9dfc5554e06f94e1dd786fd    True             0   \n",
      "25  0xe2fa197eaa5c726426003074147a08beaa59403b   False             0   \n",
      "26  0x1989c39bc167678eac6e9ade5d803cc3523011cf   False             0   \n",
      "27  0x6828bcf74279ee32f2723ec536c22c51eed383c6   False             0   \n",
      "28  0x825218bed8be0b30be39475755acee0250c50627   False             0   \n",
      "29  0xa9499b50c4a74000687435a895b55974f079ecaa   False             0   \n",
      "30  0x4b92d19c11435614cd49af1b589001b7c08cd4d5    True             0   \n",
      "31  0xc0a972a3cf8e52167589694d135abb66409f9b30   False             0   \n",
      "32  0xa696a63cc78dffa1a63e9e50587c197387ff6c7e    True             0   \n",
      "33  0x2260fac5e5542a773aa44fbcfedf7c193bc2c599    True  Simple Token   \n",
      "34  0xd765bce319b143c7ca0eb384d7db2d771152df6e   False        Sender   \n",
      "\n",
      "                                       CodeFor  \n",
      "0                                               \n",
      "1   0x41671ba1abcba387b9b2b752c205e22e916be6e3  \n",
      "2                                               \n",
      "3   0x2a8facc9d49fbc3ecff569847833c380a13418a8  \n",
      "4                                               \n",
      "5                                               \n",
      "6   0x6def55d2e18486b9ddfaa075bc4e4ee0b28c1545  \n",
      "7                                               \n",
      "8   0x93054188d876f558f4a66b2ef1d97d16edf0895b  \n",
      "9   0xeb4c2781e4eba804ce9a9803c67d0893436bb27d  \n",
      "10                                              \n",
      "11                                              \n",
      "12  0x63cf44b2548e4493fd099222a1ec79f3344d9682  \n",
      "13                                              \n",
      "14  0x444b860128b7bf8c0e864bdc3b7a36a940db7d88  \n",
      "15                                              \n",
      "16                                              \n",
      "17  0xc25099792e9349c7dd09759744ea681c7de2cb66  \n",
      "18                                              \n",
      "19                                              \n",
      "20  0x3efc97a8e23f463e71bf28eb19690d097797eb17  \n",
      "21                                              \n",
      "22                                              \n",
      "23                                              \n",
      "24                                              \n",
      "25                                              \n",
      "26  0xe2fa197eaa5c726426003074147a08beaa59403b  \n",
      "27                                              \n",
      "28                                              \n",
      "29  0x825218bed8be0b30be39475755acee0250c50627  \n",
      "30                                              \n",
      "31  0x4b92d19c11435614cd49af1b589001b7c08cd4d5  \n",
      "32                                              \n",
      "33  0xa696a63cc78dffa1a63e9e50587c197387ff6c7e  \n",
      "34                                              \n"
     ]
    }
   ],
   "source": [
    "print(df)"
   ],
   "metadata": {
    "collapsed": false,
    "pycharm": {
     "name": "#%%\n"
    }
   }
  }
 ],
 "metadata": {
  "kernelspec": {
   "display_name": "Python 3",
   "language": "python",
   "name": "python3"
  },
  "language_info": {
   "codemirror_mode": {
    "name": "ipython",
    "version": 2
   },
   "file_extension": ".py",
   "mimetype": "text/x-python",
   "name": "python",
   "nbconvert_exporter": "python",
   "pygments_lexer": "ipython2",
   "version": "2.7.6"
  }
 },
 "nbformat": 4,
 "nbformat_minor": 0
}